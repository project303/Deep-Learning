{
  "nbformat": 4,
  "nbformat_minor": 0,
  "metadata": {
    "colab": {
      "provenance": [],
      "toc_visible": true
    },
    "kernelspec": {
      "name": "python3",
      "display_name": "Python 3"
    },
    "language_info": {
      "name": "python"
    }
  },
  "cells": [
    {
      "cell_type": "code",
      "execution_count": null,
      "metadata": {
        "id": "iUQEldYpFv5S"
      },
      "outputs": [],
      "source": [
        "import numpy as np # linear algebra\n",
        "import pandas as pd # data processing, CSV file I/O (e.g. pd.read_csv)\n",
        "import re\n",
        "import tensorflow\n",
        "import nltk\n",
        "\n",
        "from nltk.corpus import stopwords\n",
        "from sklearn.feature_extraction.text import CountVectorizer\n",
        "from sklearn.model_selection import train_test_split\n",
        "\n",
        "from tensorflow.keras.preprocessing.text import Tokenizer\n",
        "from tensorflow.keras.preprocessing.sequence import pad_sequences\n",
        "from tensorflow.keras.models import Sequential\n",
        "from tensorflow.keras.layers import Dense, Embedding, LSTM\n",
        "#from tensorflow.keras.utils.np_utils import to_categorical"
      ]
    },
    {
      "cell_type": "code",
      "source": [
        "!pip install sastrawi"
      ],
      "metadata": {
        "id": "neeFtvnSmoFN"
      },
      "execution_count": null,
      "outputs": []
    },
    {
      "cell_type": "code",
      "source": [
        "from Sastrawi.Stemmer.StemmerFactory import StemmerFactory"
      ],
      "metadata": {
        "id": "4ShmKtQmmP5o"
      },
      "execution_count": null,
      "outputs": []
    },
    {
      "cell_type": "code",
      "source": [
        "nltk.download('stopwords')\n",
        "nltk.download('punkt')\n",
        "\n",
        "#augment the stopwords with nonstandard twitter words\n",
        "stopwords_set = set(stopwords.words(\"indonesian\"))\n",
        "stopwords_aug = {\"ya\",\"yak\",\"iya\",\"yg\",\"ga\",\"gak\",\"gk\",\"udh\",\"sdh\",\"udah\",\"dah\",\"nih\",\"ini\",\"deh\",\"sih\",\"dong\",\"donk\",\n",
        "                 \"sm\",\"knp\",\"utk\",\"yaa\",\"tdk\",\"gini\",\"gitu\",\"bgt\",\"gt\",\"nya\",\"kalo\",\"cb\",\"jg\",\"jgn\",\"gw\",\"ge\",\n",
        "                 \"sy\",\"min\",\"mas\",\"mba\",\"mbak\",\"pak\",\"kak\",\"trus\",\"trs\",\"bs\",\"bisa\",\"aja\",\"saja\",\"no\",\n",
        "                 \"w\",\"g\",\"gua\",\"gue\",\"emang\",\"emg\",\"wkwk\",\"dr\",\"kau\",\"dg\",\"gimana\",\"apapun\",\"apa\",\n",
        "                 \"klo\",\"yah\",\"banget\",\"pake\",\"terus\",\"krn\",\"jadi\",\"jd\",\"mu\",\"ku\",\"si\",\"hehe\",\n",
        "                 \"tp\",\"pa\",\"lu\",\"lo\",\"lw\",\"tw\",\"tau\",\"karna\",\"kayak\",\"ky\",\"lg\",\"untuk\",\"tuk\",\"dg\",\"dgn\"}\n",
        "stopwords_all = stopwords_set.union(stopwords_aug)"
      ],
      "metadata": {
        "id": "7Gg3nRPPmV54"
      },
      "execution_count": null,
      "outputs": []
    },
    {
      "cell_type": "code",
      "source": [
        "from matplotlib import pyplot\n",
        "%matplotlib inline\n",
        "\n",
        "def plot_model_history(model_history, width=15, height=6):\n",
        "\n",
        "    # summarize history for accuracy\n",
        "    pyplot.figure(figsize=(width,height))\n",
        "    pyplot.plot(history.history['accuracy'])\n",
        "    pyplot.plot(history.history['val_accuracy'])\n",
        "    pyplot.title('model accuracy')\n",
        "    pyplot.ylabel('accuracy')\n",
        "    pyplot.xlabel('epoch')\n",
        "    pyplot.legend(['train', 'test'], loc='upper left')\n",
        "    pyplot.show()\n",
        "\n",
        "    # summarize history for loss\n",
        "    pyplot.figure(figsize=(width,height))\n",
        "    pyplot.plot(history.history['loss'])\n",
        "    pyplot.plot(history.history['val_loss'])\n",
        "    pyplot.title('model loss')\n",
        "    pyplot.ylabel('loss')\n",
        "    pyplot.xlabel('epoch')\n",
        "    pyplot.legend(['train', 'test'], loc='upper left')\n",
        "    pyplot.show()"
      ],
      "metadata": {
        "id": "qqQLkYjFQkHq"
      },
      "execution_count": null,
      "outputs": []
    },
    {
      "cell_type": "code",
      "source": [
        "##!wget https://raw.githubusercontent.com/project303/Deep-Learning-201/master/dataset/sentiment.csv"
      ],
      "metadata": {
        "id": "OWHVmv9HHEVf"
      },
      "execution_count": null,
      "outputs": []
    },
    {
      "cell_type": "code",
      "source": [
        "!wget https://raw.githubusercontent.com/project303/dataset/master/Twitter.csv"
      ],
      "metadata": {
        "id": "jNGsZo5xk-XL"
      },
      "execution_count": null,
      "outputs": []
    },
    {
      "cell_type": "code",
      "source": [
        "df = pd.read_csv('Twitter.csv', sep='|')\n",
        "\n",
        "# Ambil field text dn sentiment\n",
        "df = df[['text','sentiment']]\n"
      ],
      "metadata": {
        "id": "qiJJdlswHJYw"
      },
      "execution_count": null,
      "outputs": []
    },
    {
      "cell_type": "code",
      "source": [
        "pd.set_option('display.max_colwidth', None)"
      ],
      "metadata": {
        "id": "aVdQmS5hUTpn"
      },
      "execution_count": null,
      "outputs": []
    },
    {
      "cell_type": "code",
      "source": [
        "df.head(10)"
      ],
      "metadata": {
        "id": "6c4kPQzqHfYc"
      },
      "execution_count": null,
      "outputs": []
    },
    {
      "cell_type": "code",
      "source": [
        "#data = data[data.sentiment != \"Neutral\"]\n",
        "\n",
        "dataset = df[df.sentiment != \"Netral\"]\n",
        "\n",
        "#dataset['text'] =  [re.sub('[^a-zA-z0-9\\s]','', str(x)) for x in dataset['text']]\n",
        "\n",
        "text_column = dataset['text']\n",
        "clean_text = text_column.str.replace(r'[^a-zA-Z\\s]', '', regex=True).str.strip()\n",
        "clean_text = clean_text.str.replace('rt',' ')\n",
        "clean_text = clean_text.str.lower()\n",
        "#clean_text = clean_text.str.replace(stopwords_all, '')\n",
        "\n",
        "dataset['clean_text'] = clean_text\n"
      ],
      "metadata": {
        "id": "YGkO5HrEHm-5"
      },
      "execution_count": null,
      "outputs": []
    },
    {
      "cell_type": "code",
      "source": [
        "dataset.head(10)"
      ],
      "metadata": {
        "id": "GsRbayGzHv8H"
      },
      "execution_count": null,
      "outputs": []
    },
    {
      "cell_type": "code",
      "source": [
        "print(dataset[ dataset['sentiment'] == 'Positif'].size)\n",
        "print(dataset[ dataset['sentiment'] == 'Negatif'].size)"
      ],
      "metadata": {
        "id": "2ZlEuF3WH6NJ"
      },
      "execution_count": null,
      "outputs": []
    },
    {
      "cell_type": "code",
      "source": [
        "max_fatures = 10000\n",
        "tokenizer = Tokenizer(num_words=max_fatures, split=' ')\n",
        "tokenizer.fit_on_texts(dataset['clean_text'].values)\n",
        "#dataset_text = tokenizer.texts_to_sequences(dataset['clean_text'].values)\n",
        "#dataset_text = pad_sequences(dataset_text, maxlen=100)\n",
        "#dataset_label = pd.get_dummies(dataset['sentiment']).values"
      ],
      "metadata": {
        "id": "IEZ6nCl7JOu1"
      },
      "execution_count": null,
      "outputs": []
    },
    {
      "cell_type": "code",
      "source": [
        "train_data_, test_data_, train_label_, test_label_ = train_test_split(dataset['clean_text'], dataset['sentiment'], test_size = 0.3, random_state = 42)"
      ],
      "metadata": {
        "id": "l5MgdmYpvi1n"
      },
      "execution_count": null,
      "outputs": []
    },
    {
      "cell_type": "code",
      "source": [
        "train_data_.head()"
      ],
      "metadata": {
        "id": "MZ1MivUAvwC8"
      },
      "execution_count": null,
      "outputs": []
    },
    {
      "cell_type": "code",
      "source": [
        "test_label_.head()"
      ],
      "metadata": {
        "id": "tVS-9pfmyfas"
      },
      "execution_count": null,
      "outputs": []
    },
    {
      "cell_type": "code",
      "source": [
        "train_data = tokenizer.texts_to_sequences(train_data_.values)\n",
        "train_data = pad_sequences(train_data, maxlen=100)\n",
        "train_label = pd.get_dummies(train_label_).values\n",
        "\n",
        "test_data = tokenizer.texts_to_sequences(test_data_.values)\n",
        "test_data = pad_sequences(test_data, maxlen=100)\n",
        "test_label = pd.get_dummies(test_label_).values"
      ],
      "metadata": {
        "id": "HBfEjIyXwGgg"
      },
      "execution_count": null,
      "outputs": []
    },
    {
      "cell_type": "code",
      "source": [
        "test_label"
      ],
      "metadata": {
        "id": "GqvgBDvLyyBH"
      },
      "execution_count": null,
      "outputs": []
    },
    {
      "cell_type": "code",
      "source": [
        "print(train_data.shape,train_label.shape)\n",
        "print(test_data.shape,test_label.shape)"
      ],
      "metadata": {
        "id": "WHGPrjXiTsb5"
      },
      "execution_count": null,
      "outputs": []
    },
    {
      "cell_type": "code",
      "source": [
        "train_data_.head()"
      ],
      "metadata": {
        "id": "ZGJS0h_8ZnqY"
      },
      "execution_count": null,
      "outputs": []
    },
    {
      "cell_type": "code",
      "source": [
        "train_data[:5]"
      ],
      "metadata": {
        "id": "byR0hndKZgfe"
      },
      "execution_count": null,
      "outputs": []
    },
    {
      "cell_type": "code",
      "source": [
        "word_index = tokenizer.word_index\n",
        "print(word_index)"
      ],
      "metadata": {
        "id": "h0qLLBtoY8pc"
      },
      "execution_count": null,
      "outputs": []
    },
    {
      "cell_type": "markdown",
      "source": [
        "## Create Model"
      ],
      "metadata": {
        "id": "RYsle5rBw-PS"
      }
    },
    {
      "cell_type": "code",
      "source": [
        "max_features = 10000\n",
        "max_length = 100\n",
        "embedding_size = 32\n",
        "lstm_output_size = 196\n",
        "\n",
        "model = Sequential()\n",
        "model.add(Embedding(max_fatures, embedding_size, input_shape=(max_length,) ))\n",
        "model.add(LSTM(lstm_output_size))\n",
        "model.add(Dense(2, activation='softmax'))\n",
        "model.compile(loss = 'categorical_crossentropy', optimizer='adam',metrics = ['accuracy'])\n",
        "print(model.summary())"
      ],
      "metadata": {
        "id": "Z84V49uDKRXe"
      },
      "execution_count": null,
      "outputs": []
    },
    {
      "cell_type": "code",
      "source": [
        "import os\n",
        "import datetime\n",
        "import time\n",
        "\n",
        "start = time.time()\n",
        "history = model.fit(train_data, train_label,\n",
        "                    epochs=7,\n",
        "                    batch_size=32,\n",
        "                    validation_data=(test_data, test_label)\n",
        "                   )\n",
        "\n",
        "end = time.time()\n",
        "print(\"Model took {:2.0f} seconds to train\".format((end - start)))"
      ],
      "metadata": {
        "id": "7k8wu8E8QInT"
      },
      "execution_count": null,
      "outputs": []
    },
    {
      "cell_type": "markdown",
      "source": [
        "## Model Evaluation"
      ],
      "metadata": {
        "id": "h8S2LOYRxIpL"
      }
    },
    {
      "cell_type": "code",
      "source": [
        "_for key in history.history.keys():\n",
        "    print(key)"
      ],
      "metadata": {
        "id": "76Iko2JXO-7Z"
      },
      "execution_count": null,
      "outputs": []
    },
    {
      "cell_type": "code",
      "source": [
        "plot_model_history(history)"
      ],
      "metadata": {
        "id": "8mVmM-61Qee5"
      },
      "execution_count": null,
      "outputs": []
    },
    {
      "cell_type": "code",
      "source": [
        "test_loss, test_acc = model.evaluate(test_data, test_label)\n",
        "print('Test accuracy:', test_acc)"
      ],
      "metadata": {
        "id": "4r7lmol8TRi1"
      },
      "execution_count": null,
      "outputs": []
    },
    {
      "cell_type": "code",
      "source": [
        "prediction = model.predict(test_data)\n",
        "prediction.shape"
      ],
      "metadata": {
        "id": "PCzw2EEpTVjR"
      },
      "execution_count": null,
      "outputs": []
    },
    {
      "cell_type": "code",
      "source": [
        "prediction[1]"
      ],
      "metadata": {
        "id": "M1EwJWQlTZwS"
      },
      "execution_count": null,
      "outputs": []
    },
    {
      "cell_type": "code",
      "source": [
        "prediction[1][0]"
      ],
      "metadata": {
        "id": "N8JmmQHDdeSH"
      },
      "execution_count": null,
      "outputs": []
    },
    {
      "cell_type": "code",
      "source": [
        "test_label[i].tolist()"
      ],
      "metadata": {
        "id": "41r1TCgB0Tkw"
      },
      "execution_count": null,
      "outputs": []
    },
    {
      "cell_type": "code",
      "source": [
        "type(test_data_)"
      ],
      "metadata": {
        "id": "iy_Q5xDh1F17"
      },
      "execution_count": null,
      "outputs": []
    },
    {
      "cell_type": "code",
      "source": [
        "test_data_ = test_data_.reset_index(drop=True)"
      ],
      "metadata": {
        "id": "UIiqJsNz0dZ2"
      },
      "execution_count": null,
      "outputs": []
    },
    {
      "cell_type": "code",
      "source": [
        "test_data_.head()"
      ],
      "metadata": {
        "id": "NdlEgJni1aIV"
      },
      "execution_count": null,
      "outputs": []
    },
    {
      "cell_type": "code",
      "source": [
        "for i in range(10):\n",
        "  print('%s => %s => expected %s' % (test_data_[i], prediction[i].tolist(), test_label[i].tolist()))"
      ],
      "metadata": {
        "id": "6c4utcG3duaX"
      },
      "execution_count": null,
      "outputs": []
    },
    {
      "cell_type": "markdown",
      "source": [
        "## Wrapping"
      ],
      "metadata": {
        "id": "h3thqSKj1yeI"
      }
    },
    {
      "cell_type": "code",
      "source": [
        "def get_sentiment(text):\n",
        "  the_text = []\n",
        "  the_text.append(text)\n",
        "  text_enc = tokenizer.texts_to_sequences(the_text)\n",
        "  text_enc = pad_sequences(text_enc, maxlen=100)\n",
        "\n",
        "  prediction = model.predict(text_enc)\n",
        "  print('%s => positif: %s \\t negatif: %s' % (the_text[0], prediction[0][0], prediction[0][1]))\n"
      ],
      "metadata": {
        "id": "0Qq-U6bb1y8x"
      },
      "execution_count": null,
      "outputs": []
    },
    {
      "cell_type": "code",
      "source": [
        "get_sentiment(\"telkomsel sinyal bagus\")"
      ],
      "metadata": {
        "id": "AOtbH9Nk6Zn3"
      },
      "execution_count": null,
      "outputs": []
    }
  ]
}