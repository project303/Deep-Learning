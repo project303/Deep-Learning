{
  "nbformat": 4,
  "nbformat_minor": 0,
  "metadata": {
    "kernelspec": {
      "display_name": "Python 3",
      "name": "python3"
    },
    "language_info": {
      "codemirror_mode": {
        "name": "ipython",
        "version": 3
      },
      "file_extension": ".py",
      "mimetype": "text/x-python",
      "name": "python",
      "nbconvert_exporter": "python",
      "pygments_lexer": "ipython3",
      "version": "3.6.8"
    },
    "colab": {
      "provenance": [],
      "private_outputs": true,
      "collapsed_sections": [
        "ylwUl3dYwYdC"
      ],
      "gpuType": "T4"
    },
    "accelerator": "GPU"
  },
  "cells": [
    {
      "cell_type": "code",
      "metadata": {
        "id": "4aolJC7vwYcS"
      },
      "source": [
        "#Release: 1.2008.0601\n",
        "#Release: 1.1907.1601"
      ],
      "execution_count": null,
      "outputs": []
    },
    {
      "cell_type": "markdown",
      "metadata": {
        "id": "sf4Ko6iPwYci"
      },
      "source": [
        "### Import Module"
      ]
    },
    {
      "cell_type": "code",
      "metadata": {
        "id": "UUVQLowzwYco"
      },
      "source": [
        "import tensorflow as tf\n",
        "import numpy as np\n",
        "\n",
        "from tensorflow import keras\n",
        "#import keras\n",
        "\n",
        "print(\"TensorFlow version: \" + tf.__version__)\n",
        "# Tested on TensorFlow version: 2.3.0"
      ],
      "execution_count": null,
      "outputs": []
    },
    {
      "cell_type": "code",
      "metadata": {
        "id": "OEFnA_1WwYc0"
      },
      "source": [
        "from keras.datasets import cifar10\n",
        "#from keras.preprocessing.image import ImageDataGenerator\n",
        "from keras.models import Sequential\n",
        "from keras.layers import Dense, Dropout, Activation, Flatten\n",
        "from keras.layers import Conv2D, MaxPooling2D\n",
        "from PIL import Image\n",
        "from matplotlib import pyplot\n",
        "#from scipy.misc import toimage\n",
        "\n",
        "%matplotlib inline"
      ],
      "execution_count": null,
      "outputs": []
    },
    {
      "cell_type": "markdown",
      "metadata": {
        "id": "ylwUl3dYwYdC"
      },
      "source": [
        "###  - Function to Show Image -"
      ]
    },
    {
      "cell_type": "code",
      "metadata": {
        "id": "e_BIHZDYwYdF"
      },
      "source": [
        "#helper function\n",
        "def show_image(img, label=\"\", zoom=False):\n",
        "    #labelname[y_train[0,0].astype(int)]\n",
        "    if not zoom:\n",
        "        #pyplot.figure(figsize=(4,3))\n",
        "        pyplot.subplot(330 + 1 + i)\n",
        "    else:\n",
        "        pyplot.figure(figsize=(6,3))\n",
        "        pyplot.subplot(1,2,1)\n",
        "        pyplot.grid(False)\n",
        "    pyplot.xticks([])\n",
        "    pyplot.yticks([])\n",
        "    #pyplot.imshow(img, cmap=pyplot.cm.binary)\n",
        "    pyplot.xlabel('{code} - {label}'.format(code=label, label=labelname[label]))\n",
        "    pyplot.imshow(img, cmap=pyplot.cm.binary)"
      ],
      "execution_count": null,
      "outputs": []
    },
    {
      "cell_type": "markdown",
      "metadata": {
        "id": "CYuwm2M6wYdS"
      },
      "source": [
        "### - Function to plot model accuracy and loss -"
      ]
    },
    {
      "cell_type": "code",
      "metadata": {
        "id": "i_GVbCbiwYdV"
      },
      "source": [
        "def plot_model_history(model_history, width=15, height=6):\n",
        "    # summarize history for accuracy\n",
        "    pyplot.figure(figsize=(width,height))\n",
        "    pyplot.plot(history.history['accuracy'])\n",
        "    pyplot.plot(history.history['val_accuracy'])\n",
        "    pyplot.title('model accuracy')\n",
        "    pyplot.ylabel('accuracy')\n",
        "    pyplot.xlabel('epoch')\n",
        "    pyplot.legend(['train', 'test'], loc='upper left')\n",
        "    pyplot.show()\n",
        "\n",
        "    # summarize history for loss\n",
        "    pyplot.figure(figsize=(width,height))\n",
        "    pyplot.plot(history.history['loss'])\n",
        "    pyplot.plot(history.history['val_loss'])\n",
        "    pyplot.title('model loss')\n",
        "    pyplot.ylabel('loss')\n",
        "    pyplot.xlabel('epoch')\n",
        "    pyplot.legend(['train', 'test'], loc='upper left')\n",
        "    pyplot.show()\n",
        ""
      ],
      "execution_count": null,
      "outputs": []
    },
    {
      "cell_type": "markdown",
      "metadata": {
        "id": "aU8K9vy7wYdo"
      },
      "source": [
        "### - Function Show Image Prediction -"
      ]
    },
    {
      "cell_type": "code",
      "metadata": {
        "id": "DY5frLq2wYdq"
      },
      "source": [
        "#helper function\n",
        "def show_image_prediction(i, predictions_array, true_label, img):\n",
        "  predictions_array, true_label, img = predictions_array[i], true_label[i], img[i]\n",
        "  pyplot.grid(False)\n",
        "  pyplot.xticks([])\n",
        "  pyplot.yticks([])\n",
        "\n",
        "  pyplot.imshow(img, cmap=pyplot.cm.binary)\n",
        "\n",
        "  predicted_label = np.argmax(predictions_array)\n",
        "\n",
        "  if predicted_label == true_label:\n",
        "    color = 'blue'\n",
        "\n",
        "  else:\n",
        "    color = 'red'\n",
        "\n",
        "  pyplot.xlabel(\"{} {:2.0f}% ({})\".format(labelname[predicted_label],\n",
        "                                100*np.max(predictions_array),\n",
        "                                labelname[true_label[0]]),\n",
        "                                color=color)\n",
        "\n",
        "def show_value_prediction(i, predictions_array, true_label):\n",
        "  predictions_array, true_label = predictions_array[i], true_label[i]\n",
        "  pyplot.grid(False)\n",
        "  pyplot.xticks([])\n",
        "  pyplot.yticks([])\n",
        "  thisplot = pyplot.bar(range(10), predictions_array, color=\"#777777\")\n",
        "  pyplot.ylim([0, 1])\n",
        "  predicted_label = np.argmax(predictions_array)\n",
        "\n",
        "  thisplot[predicted_label].set_color('red')\n",
        "  thisplot[true_label[0]].set_color('blue')"
      ],
      "execution_count": null,
      "outputs": []
    },
    {
      "cell_type": "markdown",
      "metadata": {
        "id": "ESo3K1vWwYd5"
      },
      "source": [
        "#### Step 01 - Load Cifar10 Data"
      ]
    },
    {
      "cell_type": "code",
      "metadata": {
        "id": "R0ZQNJXLwYd8"
      },
      "source": [
        "num_classes = 10\n",
        "labelname = [\"airplane\",\"automobile\",\"bird\",\"cat\",\"deer\",\"dog\",\"frog\",\"horse\",\"ship\",\"truck\"]\n",
        "\n",
        "# load data\n",
        "(img_train, label_train), (img_test, label_test) = cifar10.load_data()"
      ],
      "execution_count": null,
      "outputs": []
    },
    {
      "cell_type": "markdown",
      "metadata": {
        "id": "H6MxDgL4wYeH"
      },
      "source": [
        "#### Step 02 - Data Exploration"
      ]
    },
    {
      "cell_type": "code",
      "metadata": {
        "id": "EHYJxIJRwYeK"
      },
      "source": [
        "# view data shape\n",
        "print('img_train shape: ', img_train.shape)\n",
        "print('Number of image: ', img_train.shape[0])\n",
        "\n",
        "print('label_train shape:', label_train.shape)"
      ],
      "execution_count": null,
      "outputs": []
    },
    {
      "cell_type": "code",
      "metadata": {
        "id": "LzmRLxEKwYea"
      },
      "source": [
        "# view sample data\n",
        "for i in range(0, 9):\n",
        "    show_image(Image.fromarray(img_train[i]), label_train[i,0])"
      ],
      "execution_count": null,
      "outputs": []
    },
    {
      "cell_type": "code",
      "metadata": {
        "id": "dG2bSNfwwYeo"
      },
      "source": [
        "img_train[0]"
      ],
      "execution_count": null,
      "outputs": []
    },
    {
      "cell_type": "code",
      "metadata": {
        "id": "XXhobuDvJ5U0"
      },
      "source": [
        "img_train[0].shape"
      ],
      "execution_count": null,
      "outputs": []
    },
    {
      "cell_type": "code",
      "metadata": {
        "id": "HivEZRVdJzL6"
      },
      "source": [
        "img_train[0][0].shape"
      ],
      "execution_count": null,
      "outputs": []
    },
    {
      "cell_type": "code",
      "metadata": {
        "id": "WKO03PUbwYe2"
      },
      "source": [
        "img_train[0][0]"
      ],
      "execution_count": null,
      "outputs": []
    },
    {
      "cell_type": "code",
      "metadata": {
        "id": "SAKBdURwwYfG"
      },
      "source": [
        "label_train[0]"
      ],
      "execution_count": null,
      "outputs": []
    },
    {
      "cell_type": "markdown",
      "metadata": {
        "id": "LcitOk90wYfg"
      },
      "source": [
        "#### Step 03 - Training Data Preparation"
      ]
    },
    {
      "cell_type": "code",
      "metadata": {
        "id": "lvKkpkRhwYfk"
      },
      "source": [
        "# The data, split between train and test sets:\n",
        "# (img_train, label_train), (img_test, label_test) = cifar10.load_data()\n",
        "print('img_train shape:', img_train.shape)\n",
        "print('label_train shape:', label_train.shape)\n",
        "print('Training data: {num} samples'.format(num = img_train.shape[0]))\n",
        "print('Test data: {num} samples'.format(num = img_test.shape[0]))"
      ],
      "execution_count": null,
      "outputs": []
    },
    {
      "cell_type": "code",
      "metadata": {
        "id": "YG54iU4BwYf0"
      },
      "source": [
        "#integer to float\n",
        "img_train_f = img_train.astype('float32')\n",
        "img_test_f = img_test.astype('float32')\n",
        "img_train_f /= 255\n",
        "img_test_f /= 255\n",
        "print('x_train shape:', img_train_f.shape)\n",
        "print(img_train_f.shape[0], 'train samples')\n",
        "print(img_test_f.shape[0], 'test samples')"
      ],
      "execution_count": null,
      "outputs": []
    },
    {
      "cell_type": "code",
      "metadata": {
        "id": "Pwl330e8wYf_"
      },
      "source": [
        "# Convert label vectors to one hot encoding.\n",
        "from tensorflow.keras.utils import to_categorical\n",
        "\n",
        "label_train_one_hot = to_categorical(label_train, num_classes)\n",
        "label_test_one_hot = to_categorical(label_test, num_classes)\n",
        "print('label_train shape:', label_train_one_hot.shape)\n",
        "print('Original label:', label_train[0])\n",
        "print('After conversion to one-hot:', label_train_one_hot[0])"
      ],
      "execution_count": null,
      "outputs": []
    },
    {
      "cell_type": "markdown",
      "metadata": {
        "id": "xWTw4L7LwYgL"
      },
      "source": [
        "#### Step 04 - Create Model"
      ]
    },
    {
      "cell_type": "code",
      "metadata": {
        "id": "oTyRGsvOwYgN"
      },
      "source": [
        "#Define the model\n",
        "model = Sequential()\n",
        "model.add(Conv2D(32, (3, 3), padding='same', input_shape=img_train.shape[1:]))\n",
        "model.add(Activation('relu'))\n",
        "model.add(MaxPooling2D(pool_size=(2, 2)))\n",
        "model.add(Dropout(rate = 0.25))\n",
        "\n",
        "model.add(Flatten())\n",
        "model.add(Dense(num_classes))\n",
        "model.add(Activation('softmax'))\n",
        "\n",
        "model.summary()"
      ],
      "execution_count": null,
      "outputs": []
    },
    {
      "cell_type": "markdown",
      "metadata": {
        "id": "L6YtnzndwYgY"
      },
      "source": [
        "#### Step 05 - Train Model"
      ]
    },
    {
      "cell_type": "code",
      "metadata": {
        "id": "2QyVeJrFwYga"
      },
      "source": [
        "#Training Hyperparatemer\n",
        "learning_rate = 0.0001\n",
        "decay = 1e-6\n"
      ],
      "execution_count": null,
      "outputs": []
    },
    {
      "cell_type": "code",
      "metadata": {
        "id": "I1YPyXT_wYgk"
      },
      "source": [
        "#from tensorflow import keras\n",
        "#from keras import optimizers\n",
        "\n",
        "# initiate RMSprop optimizer\n",
        "opt = keras.optimizers.RMSprop(learning_rate, decay=decay)\n",
        "model.compile(loss='categorical_crossentropy',\n",
        "              optimizer=opt,\n",
        "              metrics=['accuracy'])"
      ],
      "execution_count": null,
      "outputs": []
    },
    {
      "cell_type": "code",
      "metadata": {
        "id": "S3TXPqRmwYg7"
      },
      "source": [
        "import os\n",
        "import datetime\n",
        "import time\n",
        "\n",
        "batch_size = 1000\n",
        "epochs = 30\n",
        "# menggunakan T4 GPU -- 46 detik\n",
        "\n",
        "start = time.time()\n",
        "history = model.fit(img_train_f, label_train_one_hot,\n",
        "              batch_size=batch_size,\n",
        "              epochs=epochs,\n",
        "              validation_data=(img_test_f, label_test_one_hot),\n",
        "              shuffle=True)\n",
        "\n",
        "# Save model and weights\n",
        "now = datetime.datetime.now()\n",
        "save_dir = os.path.join(os.getcwd(), 'saved_models')\n",
        "model_name = 'labs01_model_{batch}.h5'.format(batch=now.strftime(\"%Y%m%d_%H%M\"))\n",
        "\n",
        "if not os.path.isdir(save_dir):\n",
        "    os.makedirs(save_dir)\n",
        "model_path = os.path.join(save_dir, model_name)\n",
        "model.save(model_path)\n",
        "print('Saved trained model at %s ' % model_path)\n",
        "\n",
        "end = time.time()\n",
        "print(\"Model took {:2.0f} seconds to train\".format((end - start)))"
      ],
      "execution_count": null,
      "outputs": []
    },
    {
      "cell_type": "code",
      "metadata": {
        "id": "EX-jZAHm2xPm"
      },
      "source": [
        "for key in history.history.keys():\n",
        "    print(key)"
      ],
      "execution_count": null,
      "outputs": []
    },
    {
      "cell_type": "code",
      "metadata": {
        "id": "QF8bBrE7wYhJ"
      },
      "source": [
        "#show graph\n",
        "plot_model_history(history)"
      ],
      "execution_count": null,
      "outputs": []
    },
    {
      "cell_type": "markdown",
      "metadata": {
        "id": "vU9kfp9FwYhU"
      },
      "source": [
        "#### Step 06 - Evaluate Model"
      ]
    },
    {
      "cell_type": "code",
      "metadata": {
        "id": "-TSTR-aDwYhW"
      },
      "source": [
        "test_loss, test_acc = model.evaluate(img_test_f, label_test_one_hot)\n",
        "print('Test accuracy:', test_acc)"
      ],
      "execution_count": null,
      "outputs": []
    },
    {
      "cell_type": "code",
      "metadata": {
        "id": "37OXTgXbwYhh"
      },
      "source": [
        "predictions = model.predict(img_test_f)"
      ],
      "execution_count": null,
      "outputs": []
    },
    {
      "cell_type": "code",
      "metadata": {
        "id": "KyjN75LRwYhu"
      },
      "source": [
        "#labelname = [\"airplane\",\"automobile\",\"bird\",\"cat\",\"deer\",\"dog\",\"frog\",\"horse\",\"ship\",\"truck\"]\n",
        "i = 0\n",
        "pyplot.figure(figsize=(6,3))\n",
        "pyplot.subplot(1,2,1)\n",
        "show_image_prediction(i, predictions, label_test, img_test)\n",
        "pyplot.subplot(1,2,2)\n",
        "show_value_prediction(i, predictions,  label_test)\n",
        "predictions[i]"
      ],
      "execution_count": null,
      "outputs": []
    },
    {
      "cell_type": "code",
      "metadata": {
        "id": "2vDkNc_kwYh3"
      },
      "source": [
        "# Plot the first X test images, their predicted label, and the true label\n",
        "# Color correct predictions in blue, incorrect predictions in red\n",
        "num_rows = 15\n",
        "num_cols = 3\n",
        "num_images = num_rows*num_cols\n",
        "pyplot.figure(figsize=(2*2*num_cols, 2*num_rows))\n",
        "for i in range(num_images):\n",
        "  pyplot.subplot(num_rows, 2*num_cols, 2*i+1)\n",
        "  show_image_prediction(i, predictions, label_test, img_test)\n",
        "  pyplot.subplot(num_rows, 2*num_cols, 2*i+2)\n",
        "  show_value_prediction(i, predictions, label_test)"
      ],
      "execution_count": null,
      "outputs": []
    },
    {
      "cell_type": "markdown",
      "metadata": {
        "id": "Z1dd2fCmwYiA"
      },
      "source": [
        "# What Next?"
      ]
    },
    {
      "cell_type": "markdown",
      "metadata": {
        "id": "BFZYlp8I4-pN"
      },
      "source": [
        "#### Retraining with different optimization"
      ]
    },
    {
      "cell_type": "code",
      "metadata": {
        "id": "k-6iiCwT5Q1E"
      },
      "source": [
        "learning_rate = 0.01\n",
        "decay = 1e-6"
      ],
      "execution_count": null,
      "outputs": []
    },
    {
      "cell_type": "code",
      "metadata": {
        "id": "bukIK75n496b"
      },
      "source": [
        "# Stochastic gradient descent optimizer\n",
        "#opt = keras.optimizers.SGD(learning_rate, decay=decay, momentum=0.9, nesterov=True)\n",
        "#model.compile(loss='mean_squared_error',\n",
        "#              optimizer=opt,\n",
        "#              metrics=['accuracy'])"
      ],
      "execution_count": null,
      "outputs": []
    },
    {
      "cell_type": "code",
      "metadata": {
        "id": "pSlFn3LI5LEB"
      },
      "source": [
        "# Adam optimizer\n",
        "#opt = keras.optimizers.Adam(learn_rate, beta_1=0.9, beta_2=0.999, epsilon=None, decay=0.0, amsgrad=False)\n",
        "#model.compile(loss='categorical_crossentropy',\n",
        "#              optimizer=opt,\n",
        "#              metrics=['accuracy'])"
      ],
      "execution_count": null,
      "outputs": []
    },
    {
      "cell_type": "markdown",
      "metadata": {
        "id": "zg8wBQKO4c9q"
      },
      "source": [
        "#### Create more complex model"
      ]
    },
    {
      "cell_type": "code",
      "metadata": {
        "id": "MISHDDZM4jJq"
      },
      "source": [
        "#Define the model\n",
        "model = Sequential()\n",
        "model.add(Conv2D(32, (3, 3), padding='same', input_shape=img_train.shape[1:]))\n",
        "model.add(Activation('relu'))\n",
        "model.add(MaxPooling2D(pool_size=(2, 2)))\n",
        "model.add(Dropout(rate = 0.25))\n",
        "\n",
        "##add more convolution layer..\n",
        "\n",
        "model.add(Flatten())\n",
        "model.add(Dense(num_classes))\n",
        "model.add(Activation('softmax'))\n",
        "\n",
        "model.summary()"
      ],
      "execution_count": null,
      "outputs": []
    }
  ]
}