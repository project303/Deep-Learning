{
  "nbformat": 4,
  "nbformat_minor": 0,
  "metadata": {
    "colab": {
      "provenance": [],
      "collapsed_sections": [
        "ir4m7w2_V-zW",
        "QDkQlGzIWGYe",
        "46rcFTjbWO4w",
        "-M_e9XHSu0TK"
      ],
      "toc_visible": true
    },
    "kernelspec": {
      "name": "python3",
      "display_name": "Python 3"
    }
  },
  "cells": [
    {
      "cell_type": "markdown",
      "metadata": {
        "id": "9okyo9x0V2VL"
      },
      "source": [
        "## Import Required Library and Module"
      ]
    },
    {
      "cell_type": "code",
      "metadata": {
        "id": "S7SOJiPKLVW6"
      },
      "source": [
        "import pandas as pd\n",
        "import numpy as np\n",
        "import tensorflow as tf\n",
        "import keras"
      ],
      "execution_count": null,
      "outputs": []
    },
    {
      "cell_type": "code",
      "metadata": {
        "id": "_O3oLBYh49oD"
      },
      "source": [
        "from tensorflow.keras.models import Sequential\n",
        "from tensorflow.keras.layers import Dense\n",
        "\n",
        "from sklearn.model_selection import train_test_split\n",
        "\n",
        "print(\"TensorFlow version: \" + tf.__version__)\n",
        "print(\"Keras version: \" + tf.keras.version())"
      ],
      "execution_count": null,
      "outputs": []
    },
    {
      "cell_type": "markdown",
      "metadata": {
        "id": "ir4m7w2_V-zW"
      },
      "source": [
        "### Helper Funtion to Plot Training Result"
      ]
    },
    {
      "cell_type": "code",
      "metadata": {
        "id": "kN2WVfbALJiE"
      },
      "source": [
        "from matplotlib import pyplot\n",
        "%matplotlib inline\n",
        "\n",
        "def plot_model_history(model_history, width=15, height=6):\n",
        "\n",
        "    # summarize history for accuracy\n",
        "    pyplot.figure(figsize=(width,height))\n",
        "    pyplot.plot(history.history['accuracy'])\n",
        "    pyplot.plot(history.history['val_accuracy'])\n",
        "    pyplot.title('model accuracy')\n",
        "    pyplot.ylabel('accuracy')\n",
        "    pyplot.xlabel('epoch')\n",
        "    pyplot.legend(['train', 'test'], loc='upper left')\n",
        "    pyplot.show()\n",
        "\n",
        "    # summarize history for loss\n",
        "    pyplot.figure(figsize=(width,height))\n",
        "    pyplot.plot(history.history['loss'])\n",
        "    pyplot.plot(history.history['val_loss'])\n",
        "    pyplot.title('model loss')\n",
        "    pyplot.ylabel('loss')\n",
        "    pyplot.xlabel('epoch')\n",
        "    pyplot.legend(['train', 'test'], loc='upper left')\n",
        "    pyplot.show()"
      ],
      "execution_count": null,
      "outputs": []
    },
    {
      "cell_type": "markdown",
      "source": [
        "## Data Preparation"
      ],
      "metadata": {
        "id": "z_rY5HgNivzM"
      }
    },
    {
      "cell_type": "markdown",
      "metadata": {
        "id": "QDkQlGzIWGYe"
      },
      "source": [
        "### Download Dataset"
      ]
    },
    {
      "cell_type": "code",
      "metadata": {
        "id": "eAD-DvjT5IUQ"
      },
      "source": [
        "!wget https://raw.githubusercontent.com/project303/Deep-Learning-201/master/dataset/pima-indians-diabetes-data.csv"
      ],
      "execution_count": null,
      "outputs": []
    },
    {
      "cell_type": "markdown",
      "metadata": {
        "id": "46rcFTjbWO4w"
      },
      "source": [
        "### Read as Pandas Dataframe"
      ]
    },
    {
      "cell_type": "code",
      "metadata": {
        "id": "L10yqt1W6IlZ"
      },
      "source": [
        "df = pd.read_csv(\"/content/pima-indians-diabetes-data.csv\")"
      ],
      "execution_count": null,
      "outputs": []
    },
    {
      "cell_type": "markdown",
      "metadata": {
        "id": "-M_e9XHSu0TK"
      },
      "source": [
        "### Simple EDA"
      ]
    },
    {
      "cell_type": "code",
      "metadata": {
        "id": "4z-Wstp1uyuZ"
      },
      "source": [
        "df.head()"
      ],
      "execution_count": null,
      "outputs": []
    },
    {
      "cell_type": "code",
      "metadata": {
        "id": "Rjvl8Bz1ss6P"
      },
      "source": [
        "df.describe()"
      ],
      "execution_count": null,
      "outputs": []
    },
    {
      "cell_type": "code",
      "metadata": {
        "id": "j_KcP6fctmLo"
      },
      "source": [
        "df.info()"
      ],
      "execution_count": null,
      "outputs": []
    },
    {
      "cell_type": "code",
      "metadata": {
        "id": "IxHGiImYt0UL"
      },
      "source": [
        "df.shape"
      ],
      "execution_count": null,
      "outputs": []
    },
    {
      "cell_type": "code",
      "metadata": {
        "id": "cZr_cotqtEEJ"
      },
      "source": [
        "df.groupby('Outcome').size()"
      ],
      "execution_count": null,
      "outputs": []
    },
    {
      "cell_type": "code",
      "source": [
        "df_label = df['Outcome']\n",
        "df_label.head()"
      ],
      "metadata": {
        "id": "ild99eV5nF-K"
      },
      "execution_count": null,
      "outputs": []
    },
    {
      "cell_type": "code",
      "metadata": {
        "id": "jUWFeSiH6ahd"
      },
      "source": [
        "df_features = df.drop('Outcome', axis=1)\n",
        "df_features.replace('?', -99999, inplace=True)\n",
        "\n",
        "df_features.head()"
      ],
      "execution_count": null,
      "outputs": []
    },
    {
      "cell_type": "code",
      "metadata": {
        "id": "c_7UkSu8MJI5"
      },
      "source": [
        "df_features.shape"
      ],
      "execution_count": null,
      "outputs": []
    },
    {
      "cell_type": "markdown",
      "metadata": {
        "id": "WNd_umDlWUSI"
      },
      "source": [
        "### Convert Category into 2 Class"
      ]
    },
    {
      "cell_type": "code",
      "metadata": {
        "id": "942LUXMk9dII"
      },
      "source": [
        "label = []\n",
        "for lab in df_label:\n",
        "    if lab == 1:\n",
        "        label.append([1, 0])  # class 1\n",
        "    elif lab == 0:\n",
        "        label.append([0, 1])  # class 0"
      ],
      "execution_count": null,
      "outputs": []
    },
    {
      "cell_type": "markdown",
      "metadata": {
        "id": "lWa51988Wdyo"
      },
      "source": [
        "### Convert Dataframe to Array"
      ]
    },
    {
      "cell_type": "code",
      "metadata": {
        "id": "VZjnPnuf90fM"
      },
      "source": [
        "data = np.array(df_features)\n",
        "label = np.array(label)\n",
        "print(data.shape,label.shape)"
      ],
      "execution_count": null,
      "outputs": []
    },
    {
      "cell_type": "code",
      "metadata": {
        "id": "r-uhHMIgI5ld"
      },
      "source": [
        "data[1]"
      ],
      "execution_count": null,
      "outputs": []
    },
    {
      "cell_type": "code",
      "metadata": {
        "id": "RyMbOWnMJEst"
      },
      "source": [
        "label[1]"
      ],
      "execution_count": null,
      "outputs": []
    },
    {
      "cell_type": "markdown",
      "metadata": {
        "id": "myg_mAHtWj35"
      },
      "source": [
        "### Split Data Into Training Dataset And Test Dataset"
      ]
    },
    {
      "cell_type": "code",
      "metadata": {
        "id": "kwh2dTry959v"
      },
      "source": [
        "#train_data, test_data, train_label, test_label = train_test_split(df.drop('Outcome',axis=1),df['Outcome'],test_size=0.2,random_state=42)\n",
        "train_data, test_data, train_label, test_label = train_test_split(data, label, test_size=0.2, random_state=42)\n",
        "print(train_data.shape, test_data.shape)"
      ],
      "execution_count": null,
      "outputs": []
    },
    {
      "cell_type": "code",
      "source": [
        "data.shape"
      ],
      "metadata": {
        "id": "uyPSoNcaqp32"
      },
      "execution_count": null,
      "outputs": []
    },
    {
      "cell_type": "markdown",
      "source": [
        "## Train Model"
      ],
      "metadata": {
        "id": "evGN0bEJvuN0"
      }
    },
    {
      "cell_type": "markdown",
      "metadata": {
        "id": "EDUn62LtWutK"
      },
      "source": [
        "### Create Model"
      ]
    },
    {
      "cell_type": "code",
      "metadata": {
        "id": "qYO5pwrO-MQS"
      },
      "source": [
        "## create model\n",
        "model = Sequential()\n",
        "model.add(Dense(12, input_dim=8, activation='relu'))\n",
        "model.add(Dense(8, activation='relu'))\n",
        "model.add(Dense(2, activation='softmax'))\n",
        "\n",
        "model.summary()"
      ],
      "execution_count": null,
      "outputs": []
    },
    {
      "cell_type": "markdown",
      "source": [
        "**Catatan**\n",
        "Activation Function:\n",
        "1. relu(Rectified Linear Unit) : activation function yang paling sering digunakan untuk hidden layer\n",
        "2. softmax : digunakan pada output layer untuk klasifikasi multi-class\n",
        "3. sigmoid : digunakan pada output layer untuk klasifikasi biner"
      ],
      "metadata": {
        "id": "pm0TMCGC27gL"
      }
    },
    {
      "cell_type": "markdown",
      "metadata": {
        "id": "C38MbZVwWyHT"
      },
      "source": [
        "### Setup Training Optimizer"
      ]
    },
    {
      "cell_type": "code",
      "metadata": {
        "id": "U4JWt2Zn-hqk"
      },
      "source": [
        "## set training optimizer\n",
        "model.compile(loss='binary_crossentropy', optimizer='adam', metrics=['accuracy'])"
      ],
      "execution_count": null,
      "outputs": []
    },
    {
      "cell_type": "markdown",
      "metadata": {
        "id": "phzf07jiW2XF"
      },
      "source": [
        "### Train The Model"
      ]
    },
    {
      "cell_type": "code",
      "metadata": {
        "id": "XkBpra0I-p13"
      },
      "source": [
        "import os\n",
        "import datetime\n",
        "import time\n",
        "\n",
        "start = time.time()\n",
        "history = model.fit(train_data, train_label,\n",
        "                    epochs=200,\n",
        "                    batch_size=10,\n",
        "                    validation_data=(test_data, test_label)\n",
        "                    )\n",
        "\n",
        "end = time.time()\n",
        "print(\"Model took {:2.0f} seconds to train\".format((end - start)))"
      ],
      "execution_count": null,
      "outputs": []
    },
    {
      "cell_type": "markdown",
      "metadata": {
        "id": "xM8VnnqnW7C8"
      },
      "source": [
        "### View Training Result"
      ]
    },
    {
      "cell_type": "code",
      "metadata": {
        "id": "3EBycIa1Apgv"
      },
      "source": [
        "for key in history.history.keys():\n",
        "    print(key)\n"
      ],
      "execution_count": null,
      "outputs": []
    },
    {
      "cell_type": "code",
      "metadata": {
        "id": "jUU0dfZfNBhm"
      },
      "source": [
        "#show graph\n",
        "plot_model_history(history)"
      ],
      "execution_count": null,
      "outputs": []
    },
    {
      "cell_type": "markdown",
      "metadata": {
        "id": "qNXkDdKPW_cA"
      },
      "source": [
        "## Evaluate the Model"
      ]
    },
    {
      "cell_type": "code",
      "metadata": {
        "id": "OZORWyf8NSxr"
      },
      "source": [
        "test_loss, test_acc = model.evaluate(test_data, test_label)\n",
        "print('Test accuracy:', test_acc)"
      ],
      "execution_count": null,
      "outputs": []
    },
    {
      "cell_type": "code",
      "metadata": {
        "id": "_0TQ8r_7_bTv"
      },
      "source": [
        "prediction = model.predict(test_data)\n",
        "prediction.shape"
      ],
      "execution_count": null,
      "outputs": []
    },
    {
      "cell_type": "code",
      "metadata": {
        "id": "Ppp0XaGUQYOP"
      },
      "source": [
        "prediction[1]"
      ],
      "execution_count": null,
      "outputs": []
    },
    {
      "cell_type": "code",
      "metadata": {
        "id": "ctIpBpsdQloi"
      },
      "source": [
        "for i in range(5):\n",
        "  print('%s => %s => expected %s' % (test_data[i].tolist(), prediction[i].tolist(), test_label[i].tolist()))"
      ],
      "execution_count": null,
      "outputs": []
    },
    {
      "cell_type": "code",
      "metadata": {
        "id": "8QtBPk7W_0yJ"
      },
      "source": [
        "# Creating pandas dataframe from numpy array\n",
        "\n",
        "result = pd.DataFrame({'Pregnancies': test_data[:, 0],\n",
        "                       'Glucose': test_data[:, 1],\n",
        "                       'BloodPressure': test_data[:, 2],\n",
        "                       'SkinThickness': test_data[:, 3],\n",
        "                       'Insulin': test_data[:, 4],\n",
        "                       'BMI': test_data[:, 5],\n",
        "                       'DiabetesPedigreeFunction': test_data[:, 6],\n",
        "                       'Age': test_data[:, 7],\n",
        "                       'Prediction-yes': prediction[:, 0],\n",
        "                       'Prediction-no': prediction[:, 1],\n",
        "                       'Diabetes-yes': test_label[:, 0],\n",
        "                       'Diabetes-no': test_label[:, 1]}\n",
        "                      )\n",
        "print(result)"
      ],
      "execution_count": null,
      "outputs": []
    },
    {
      "cell_type": "code",
      "metadata": {
        "id": "DK1SfVDVU1cW"
      },
      "source": [
        "result.head(10)"
      ],
      "execution_count": null,
      "outputs": []
    },
    {
      "cell_type": "code",
      "metadata": {
        "id": "3_woyXQAUTuB"
      },
      "source": [],
      "execution_count": null,
      "outputs": []
    },
    {
      "cell_type": "markdown",
      "source": [
        "## Revision Hostory"
      ],
      "metadata": {
        "id": "1UfEUKpyiQDV"
      }
    },
    {
      "cell_type": "markdown",
      "source": [
        "Release: 1.2206.0101\n",
        "\n",
        "\n",
        "*   Initial release\n",
        "\n"
      ],
      "metadata": {
        "id": "qd1PFcgUiUj6"
      }
    },
    {
      "cell_type": "code",
      "source": [],
      "metadata": {
        "id": "mfDRkL7Vif90"
      },
      "execution_count": null,
      "outputs": []
    }
  ]
}