{
  "nbformat": 4,
  "nbformat_minor": 0,
  "metadata": {
    "colab": {
      "provenance": [],
      "collapsed_sections": [
        "ir4m7w2_V-zW",
        "QDkQlGzIWGYe",
        "46rcFTjbWO4w",
        "-M_e9XHSu0TK"
      ]
    },
    "kernelspec": {
      "name": "python3",
      "display_name": "Python 3"
    }
  },
  "cells": [
    {
      "cell_type": "markdown",
      "source": [
        "# Hands-on Diabetes Prediction using ANN"
      ],
      "metadata": {
        "id": "TiB2lEnOD-UF"
      }
    },
    {
      "cell_type": "markdown",
      "metadata": {
        "id": "9okyo9x0V2VL"
      },
      "source": [
        "### Import Required Library and Module"
      ]
    },
    {
      "cell_type": "code",
      "metadata": {
        "id": "S7SOJiPKLVW6"
      },
      "source": [
        "import pandas as pd\n",
        "import numpy as np\n",
        "import tensorflow as tf"
      ],
      "execution_count": null,
      "outputs": []
    },
    {
      "cell_type": "code",
      "metadata": {
        "id": "_O3oLBYh49oD",
        "outputId": "cd75e99c-ce7e-42cf-a1f2-29aa1ea33275",
        "colab": {
          "base_uri": "https://localhost:8080/",
          "height": 35
        }
      },
      "source": [
        "from keras.models import Sequential\n",
        "from keras.layers import Dense\n",
        "from sklearn.model_selection import train_test_split\n",
        "\n",
        "print(\"TensorFlow version: \" + tf.__version__)"
      ],
      "execution_count": null,
      "outputs": [
        {
          "output_type": "stream",
          "text": [
            "TensorFlow version: 2.2.0\n"
          ],
          "name": "stdout"
        }
      ]
    },
    {
      "cell_type": "markdown",
      "metadata": {
        "id": "ir4m7w2_V-zW"
      },
      "source": [
        "### Helper Funtion to Plot Training Result"
      ]
    },
    {
      "cell_type": "code",
      "metadata": {
        "id": "kN2WVfbALJiE"
      },
      "source": [
        "from matplotlib import pyplot\n",
        "%matplotlib inline\n",
        "\n",
        "def plot_model_history(model_history):\n",
        "    # summarize history for accuracy\n",
        "    pyplot.plot(history.history['accuracy'])\n",
        "    pyplot.plot(history.history['val_accuracy'])\n",
        "    pyplot.title('model accuracy')\n",
        "    pyplot.ylabel('accuracy')\n",
        "    pyplot.xlabel('epoch')\n",
        "    pyplot.legend(['train', 'test'], loc='upper left')\n",
        "    pyplot.show()\n",
        "\n",
        "    # summarize history for loss\n",
        "    pyplot.plot(history.history['loss'])\n",
        "    pyplot.plot(history.history['val_loss'])\n",
        "    pyplot.title('model loss')\n",
        "    pyplot.ylabel('loss')\n",
        "    pyplot.xlabel('epoch')\n",
        "    pyplot.legend(['train', 'test'], loc='upper left')\n",
        "    pyplot.show()"
      ],
      "execution_count": null,
      "outputs": []
    },
    {
      "cell_type": "markdown",
      "metadata": {
        "id": "QDkQlGzIWGYe"
      },
      "source": [
        "### Download Dataset"
      ]
    },
    {
      "cell_type": "code",
      "metadata": {
        "id": "eAD-DvjT5IUQ",
        "outputId": "f9788f54-bd6a-4b4f-f50b-2c141547d317",
        "colab": {
          "base_uri": "https://localhost:8080/",
          "height": 220
        }
      },
      "source": [
        "!wget https://raw.githubusercontent.com/project303/Deep-Learning-201/master/dataset/pima-indians-diabetes-data.csv"
      ],
      "execution_count": null,
      "outputs": [
        {
          "output_type": "stream",
          "text": [
            "--2020-05-21 16:43:43--  https://raw.githubusercontent.com/project303/Deep-Learning-201/master/dataset/pima-indians-diabetes-data.csv\n",
            "Resolving raw.githubusercontent.com (raw.githubusercontent.com)... 151.101.0.133, 151.101.64.133, 151.101.128.133, ...\n",
            "Connecting to raw.githubusercontent.com (raw.githubusercontent.com)|151.101.0.133|:443... connected.\n",
            "HTTP request sent, awaiting response... 200 OK\n",
            "Length: 23873 (23K) [text/plain]\n",
            "Saving to: ‘pima-indians-diabetes-data.csv’\n",
            "\n",
            "\r          pima-indi   0%[                    ]       0  --.-KB/s               \rpima-indians-diabet 100%[===================>]  23.31K  --.-KB/s    in 0.01s   \n",
            "\n",
            "2020-05-21 16:43:43 (2.26 MB/s) - ‘pima-indians-diabetes-data.csv’ saved [23873/23873]\n",
            "\n"
          ],
          "name": "stdout"
        }
      ]
    },
    {
      "cell_type": "markdown",
      "metadata": {
        "id": "46rcFTjbWO4w"
      },
      "source": [
        "### Read as Pandas Dataframe"
      ]
    },
    {
      "cell_type": "code",
      "metadata": {
        "id": "L10yqt1W6IlZ"
      },
      "source": [
        "dataframe = pd.read_csv(\"/content/pima-indians-diabetes-data.csv\")"
      ],
      "execution_count": null,
      "outputs": []
    },
    {
      "cell_type": "markdown",
      "metadata": {
        "id": "-M_e9XHSu0TK"
      },
      "source": [
        "### Simple EDA"
      ]
    },
    {
      "cell_type": "code",
      "metadata": {
        "id": "4z-Wstp1uyuZ",
        "colab": {
          "base_uri": "https://localhost:8080/",
          "height": 206
        },
        "outputId": "cb844582-6147-4cb1-d450-2586d5c7c512"
      },
      "source": [
        "dataframe.head()"
      ],
      "execution_count": null,
      "outputs": [
        {
          "output_type": "execute_result",
          "data": {
            "text/html": [
              "<div>\n",
              "<style scoped>\n",
              "    .dataframe tbody tr th:only-of-type {\n",
              "        vertical-align: middle;\n",
              "    }\n",
              "\n",
              "    .dataframe tbody tr th {\n",
              "        vertical-align: top;\n",
              "    }\n",
              "\n",
              "    .dataframe thead th {\n",
              "        text-align: right;\n",
              "    }\n",
              "</style>\n",
              "<table border=\"1\" class=\"dataframe\">\n",
              "  <thead>\n",
              "    <tr style=\"text-align: right;\">\n",
              "      <th></th>\n",
              "      <th>Pregnancies</th>\n",
              "      <th>Glucose</th>\n",
              "      <th>BloodPressure</th>\n",
              "      <th>SkinThickness</th>\n",
              "      <th>Insulin</th>\n",
              "      <th>BMI</th>\n",
              "      <th>DiabetesPedigreeFunction</th>\n",
              "      <th>Age</th>\n",
              "      <th>Outcome</th>\n",
              "    </tr>\n",
              "  </thead>\n",
              "  <tbody>\n",
              "    <tr>\n",
              "      <th>0</th>\n",
              "      <td>6</td>\n",
              "      <td>148</td>\n",
              "      <td>72</td>\n",
              "      <td>35</td>\n",
              "      <td>0</td>\n",
              "      <td>33.6</td>\n",
              "      <td>0.627</td>\n",
              "      <td>50</td>\n",
              "      <td>1</td>\n",
              "    </tr>\n",
              "    <tr>\n",
              "      <th>1</th>\n",
              "      <td>1</td>\n",
              "      <td>85</td>\n",
              "      <td>66</td>\n",
              "      <td>29</td>\n",
              "      <td>0</td>\n",
              "      <td>26.6</td>\n",
              "      <td>0.351</td>\n",
              "      <td>31</td>\n",
              "      <td>0</td>\n",
              "    </tr>\n",
              "    <tr>\n",
              "      <th>2</th>\n",
              "      <td>8</td>\n",
              "      <td>183</td>\n",
              "      <td>64</td>\n",
              "      <td>0</td>\n",
              "      <td>0</td>\n",
              "      <td>23.3</td>\n",
              "      <td>0.672</td>\n",
              "      <td>32</td>\n",
              "      <td>1</td>\n",
              "    </tr>\n",
              "    <tr>\n",
              "      <th>3</th>\n",
              "      <td>1</td>\n",
              "      <td>89</td>\n",
              "      <td>66</td>\n",
              "      <td>23</td>\n",
              "      <td>94</td>\n",
              "      <td>28.1</td>\n",
              "      <td>0.167</td>\n",
              "      <td>21</td>\n",
              "      <td>0</td>\n",
              "    </tr>\n",
              "    <tr>\n",
              "      <th>4</th>\n",
              "      <td>0</td>\n",
              "      <td>137</td>\n",
              "      <td>40</td>\n",
              "      <td>35</td>\n",
              "      <td>168</td>\n",
              "      <td>43.1</td>\n",
              "      <td>2.288</td>\n",
              "      <td>33</td>\n",
              "      <td>1</td>\n",
              "    </tr>\n",
              "  </tbody>\n",
              "</table>\n",
              "</div>"
            ],
            "text/plain": [
              "   Pregnancies  Glucose  BloodPressure  ...  DiabetesPedigreeFunction  Age  Outcome\n",
              "0            6      148             72  ...                     0.627   50        1\n",
              "1            1       85             66  ...                     0.351   31        0\n",
              "2            8      183             64  ...                     0.672   32        1\n",
              "3            1       89             66  ...                     0.167   21        0\n",
              "4            0      137             40  ...                     2.288   33        1\n",
              "\n",
              "[5 rows x 9 columns]"
            ]
          },
          "metadata": {
            "tags": []
          },
          "execution_count": 68
        }
      ]
    },
    {
      "cell_type": "code",
      "metadata": {
        "id": "Rjvl8Bz1ss6P",
        "colab": {
          "base_uri": "https://localhost:8080/",
          "height": 300
        },
        "outputId": "34e96f83-93c8-4ca1-c044-b486949b5656"
      },
      "source": [
        "dataframe.describe()"
      ],
      "execution_count": null,
      "outputs": [
        {
          "output_type": "execute_result",
          "data": {
            "text/html": [
              "<div>\n",
              "<style scoped>\n",
              "    .dataframe tbody tr th:only-of-type {\n",
              "        vertical-align: middle;\n",
              "    }\n",
              "\n",
              "    .dataframe tbody tr th {\n",
              "        vertical-align: top;\n",
              "    }\n",
              "\n",
              "    .dataframe thead th {\n",
              "        text-align: right;\n",
              "    }\n",
              "</style>\n",
              "<table border=\"1\" class=\"dataframe\">\n",
              "  <thead>\n",
              "    <tr style=\"text-align: right;\">\n",
              "      <th></th>\n",
              "      <th>Pregnancies</th>\n",
              "      <th>Glucose</th>\n",
              "      <th>BloodPressure</th>\n",
              "      <th>SkinThickness</th>\n",
              "      <th>Insulin</th>\n",
              "      <th>BMI</th>\n",
              "      <th>DiabetesPedigreeFunction</th>\n",
              "      <th>Age</th>\n",
              "      <th>Outcome</th>\n",
              "    </tr>\n",
              "  </thead>\n",
              "  <tbody>\n",
              "    <tr>\n",
              "      <th>count</th>\n",
              "      <td>768.000000</td>\n",
              "      <td>768.000000</td>\n",
              "      <td>768.000000</td>\n",
              "      <td>768.000000</td>\n",
              "      <td>768.000000</td>\n",
              "      <td>768.000000</td>\n",
              "      <td>768.000000</td>\n",
              "      <td>768.000000</td>\n",
              "      <td>768.000000</td>\n",
              "    </tr>\n",
              "    <tr>\n",
              "      <th>mean</th>\n",
              "      <td>3.845052</td>\n",
              "      <td>120.894531</td>\n",
              "      <td>69.105469</td>\n",
              "      <td>20.536458</td>\n",
              "      <td>79.799479</td>\n",
              "      <td>31.992578</td>\n",
              "      <td>0.471876</td>\n",
              "      <td>33.240885</td>\n",
              "      <td>0.348958</td>\n",
              "    </tr>\n",
              "    <tr>\n",
              "      <th>std</th>\n",
              "      <td>3.369578</td>\n",
              "      <td>31.972618</td>\n",
              "      <td>19.355807</td>\n",
              "      <td>15.952218</td>\n",
              "      <td>115.244002</td>\n",
              "      <td>7.884160</td>\n",
              "      <td>0.331329</td>\n",
              "      <td>11.760232</td>\n",
              "      <td>0.476951</td>\n",
              "    </tr>\n",
              "    <tr>\n",
              "      <th>min</th>\n",
              "      <td>0.000000</td>\n",
              "      <td>0.000000</td>\n",
              "      <td>0.000000</td>\n",
              "      <td>0.000000</td>\n",
              "      <td>0.000000</td>\n",
              "      <td>0.000000</td>\n",
              "      <td>0.078000</td>\n",
              "      <td>21.000000</td>\n",
              "      <td>0.000000</td>\n",
              "    </tr>\n",
              "    <tr>\n",
              "      <th>25%</th>\n",
              "      <td>1.000000</td>\n",
              "      <td>99.000000</td>\n",
              "      <td>62.000000</td>\n",
              "      <td>0.000000</td>\n",
              "      <td>0.000000</td>\n",
              "      <td>27.300000</td>\n",
              "      <td>0.243750</td>\n",
              "      <td>24.000000</td>\n",
              "      <td>0.000000</td>\n",
              "    </tr>\n",
              "    <tr>\n",
              "      <th>50%</th>\n",
              "      <td>3.000000</td>\n",
              "      <td>117.000000</td>\n",
              "      <td>72.000000</td>\n",
              "      <td>23.000000</td>\n",
              "      <td>30.500000</td>\n",
              "      <td>32.000000</td>\n",
              "      <td>0.372500</td>\n",
              "      <td>29.000000</td>\n",
              "      <td>0.000000</td>\n",
              "    </tr>\n",
              "    <tr>\n",
              "      <th>75%</th>\n",
              "      <td>6.000000</td>\n",
              "      <td>140.250000</td>\n",
              "      <td>80.000000</td>\n",
              "      <td>32.000000</td>\n",
              "      <td>127.250000</td>\n",
              "      <td>36.600000</td>\n",
              "      <td>0.626250</td>\n",
              "      <td>41.000000</td>\n",
              "      <td>1.000000</td>\n",
              "    </tr>\n",
              "    <tr>\n",
              "      <th>max</th>\n",
              "      <td>17.000000</td>\n",
              "      <td>199.000000</td>\n",
              "      <td>122.000000</td>\n",
              "      <td>99.000000</td>\n",
              "      <td>846.000000</td>\n",
              "      <td>67.100000</td>\n",
              "      <td>2.420000</td>\n",
              "      <td>81.000000</td>\n",
              "      <td>1.000000</td>\n",
              "    </tr>\n",
              "  </tbody>\n",
              "</table>\n",
              "</div>"
            ],
            "text/plain": [
              "       Pregnancies     Glucose  ...         Age     Outcome\n",
              "count   768.000000  768.000000  ...  768.000000  768.000000\n",
              "mean      3.845052  120.894531  ...   33.240885    0.348958\n",
              "std       3.369578   31.972618  ...   11.760232    0.476951\n",
              "min       0.000000    0.000000  ...   21.000000    0.000000\n",
              "25%       1.000000   99.000000  ...   24.000000    0.000000\n",
              "50%       3.000000  117.000000  ...   29.000000    0.000000\n",
              "75%       6.000000  140.250000  ...   41.000000    1.000000\n",
              "max      17.000000  199.000000  ...   81.000000    1.000000\n",
              "\n",
              "[8 rows x 9 columns]"
            ]
          },
          "metadata": {
            "tags": []
          },
          "execution_count": 63
        }
      ]
    },
    {
      "cell_type": "code",
      "metadata": {
        "id": "j_KcP6fctmLo",
        "colab": {
          "base_uri": "https://localhost:8080/",
          "height": 313
        },
        "outputId": "4f8e5736-d382-4280-cd8f-ba3dac317f67"
      },
      "source": [
        "dataframe.info()"
      ],
      "execution_count": null,
      "outputs": [
        {
          "output_type": "stream",
          "text": [
            "<class 'pandas.core.frame.DataFrame'>\n",
            "RangeIndex: 768 entries, 0 to 767\n",
            "Data columns (total 9 columns):\n",
            " #   Column                    Non-Null Count  Dtype  \n",
            "---  ------                    --------------  -----  \n",
            " 0   Pregnancies               768 non-null    int64  \n",
            " 1   Glucose                   768 non-null    int64  \n",
            " 2   BloodPressure             768 non-null    int64  \n",
            " 3   SkinThickness             768 non-null    int64  \n",
            " 4   Insulin                   768 non-null    int64  \n",
            " 5   BMI                       768 non-null    float64\n",
            " 6   DiabetesPedigreeFunction  768 non-null    float64\n",
            " 7   Age                       768 non-null    int64  \n",
            " 8   Outcome                   768 non-null    int64  \n",
            "dtypes: float64(2), int64(7)\n",
            "memory usage: 54.1 KB\n"
          ],
          "name": "stdout"
        }
      ]
    },
    {
      "cell_type": "code",
      "metadata": {
        "id": "IxHGiImYt0UL",
        "colab": {
          "base_uri": "https://localhost:8080/",
          "height": 35
        },
        "outputId": "4a0d8a08-2066-491c-e132-5e76ecca8799"
      },
      "source": [
        "dataframe.shape"
      ],
      "execution_count": null,
      "outputs": [
        {
          "output_type": "execute_result",
          "data": {
            "text/plain": [
              "(768, 9)"
            ]
          },
          "metadata": {
            "tags": []
          },
          "execution_count": 67
        }
      ]
    },
    {
      "cell_type": "code",
      "metadata": {
        "id": "cZr_cotqtEEJ",
        "colab": {
          "base_uri": "https://localhost:8080/",
          "height": 91
        },
        "outputId": "644bfa40-d55d-4365-ddb7-b9daa6f50f5f"
      },
      "source": [
        "dataframe.groupby('Outcome').size()"
      ],
      "execution_count": null,
      "outputs": [
        {
          "output_type": "execute_result",
          "data": {
            "text/plain": [
              "Outcome\n",
              "0    500\n",
              "1    268\n",
              "dtype: int64"
            ]
          },
          "metadata": {
            "tags": []
          },
          "execution_count": 64
        }
      ]
    },
    {
      "cell_type": "code",
      "metadata": {
        "id": "jUWFeSiH6ahd",
        "outputId": "b5faaf73-3f0e-46f1-8ffb-f5dd037e983b",
        "colab": {
          "base_uri": "https://localhost:8080/",
          "height": 206
        }
      },
      "source": [
        "df_label = dataframe['Outcome']\n",
        "df_features = dataframe.drop('Outcome', 1)\n",
        "df_features.replace('?', -99999, inplace=True)\n",
        "\n",
        "df_features.head()"
      ],
      "execution_count": null,
      "outputs": [
        {
          "output_type": "execute_result",
          "data": {
            "text/html": [
              "<div>\n",
              "<style scoped>\n",
              "    .dataframe tbody tr th:only-of-type {\n",
              "        vertical-align: middle;\n",
              "    }\n",
              "\n",
              "    .dataframe tbody tr th {\n",
              "        vertical-align: top;\n",
              "    }\n",
              "\n",
              "    .dataframe thead th {\n",
              "        text-align: right;\n",
              "    }\n",
              "</style>\n",
              "<table border=\"1\" class=\"dataframe\">\n",
              "  <thead>\n",
              "    <tr style=\"text-align: right;\">\n",
              "      <th></th>\n",
              "      <th>Pregnancies</th>\n",
              "      <th>Glucose</th>\n",
              "      <th>BloodPressure</th>\n",
              "      <th>SkinThickness</th>\n",
              "      <th>Insulin</th>\n",
              "      <th>BMI</th>\n",
              "      <th>DiabetesPedigreeFunction</th>\n",
              "      <th>Age</th>\n",
              "    </tr>\n",
              "  </thead>\n",
              "  <tbody>\n",
              "    <tr>\n",
              "      <th>0</th>\n",
              "      <td>6</td>\n",
              "      <td>148</td>\n",
              "      <td>72</td>\n",
              "      <td>35</td>\n",
              "      <td>0</td>\n",
              "      <td>33.6</td>\n",
              "      <td>0.627</td>\n",
              "      <td>50</td>\n",
              "    </tr>\n",
              "    <tr>\n",
              "      <th>1</th>\n",
              "      <td>1</td>\n",
              "      <td>85</td>\n",
              "      <td>66</td>\n",
              "      <td>29</td>\n",
              "      <td>0</td>\n",
              "      <td>26.6</td>\n",
              "      <td>0.351</td>\n",
              "      <td>31</td>\n",
              "    </tr>\n",
              "    <tr>\n",
              "      <th>2</th>\n",
              "      <td>8</td>\n",
              "      <td>183</td>\n",
              "      <td>64</td>\n",
              "      <td>0</td>\n",
              "      <td>0</td>\n",
              "      <td>23.3</td>\n",
              "      <td>0.672</td>\n",
              "      <td>32</td>\n",
              "    </tr>\n",
              "    <tr>\n",
              "      <th>3</th>\n",
              "      <td>1</td>\n",
              "      <td>89</td>\n",
              "      <td>66</td>\n",
              "      <td>23</td>\n",
              "      <td>94</td>\n",
              "      <td>28.1</td>\n",
              "      <td>0.167</td>\n",
              "      <td>21</td>\n",
              "    </tr>\n",
              "    <tr>\n",
              "      <th>4</th>\n",
              "      <td>0</td>\n",
              "      <td>137</td>\n",
              "      <td>40</td>\n",
              "      <td>35</td>\n",
              "      <td>168</td>\n",
              "      <td>43.1</td>\n",
              "      <td>2.288</td>\n",
              "      <td>33</td>\n",
              "    </tr>\n",
              "  </tbody>\n",
              "</table>\n",
              "</div>"
            ],
            "text/plain": [
              "   Pregnancies  Glucose  BloodPressure  ...   BMI  DiabetesPedigreeFunction  Age\n",
              "0            6      148             72  ...  33.6                     0.627   50\n",
              "1            1       85             66  ...  26.6                     0.351   31\n",
              "2            8      183             64  ...  23.3                     0.672   32\n",
              "3            1       89             66  ...  28.1                     0.167   21\n",
              "4            0      137             40  ...  43.1                     2.288   33\n",
              "\n",
              "[5 rows x 8 columns]"
            ]
          },
          "metadata": {
            "tags": []
          },
          "execution_count": 24
        }
      ]
    },
    {
      "cell_type": "code",
      "metadata": {
        "id": "c_7UkSu8MJI5",
        "outputId": "aee4408e-fe66-40e0-ffc0-dddb3349096b",
        "colab": {
          "base_uri": "https://localhost:8080/",
          "height": 35
        }
      },
      "source": [
        "df_features.shape"
      ],
      "execution_count": null,
      "outputs": [
        {
          "output_type": "execute_result",
          "data": {
            "text/plain": [
              "(768, 8)"
            ]
          },
          "metadata": {
            "tags": []
          },
          "execution_count": 26
        }
      ]
    },
    {
      "cell_type": "code",
      "metadata": {
        "id": "6CILGsCv81QW",
        "outputId": "f6b9c89f-6ba0-4d8e-bc8c-84fbd522da5c",
        "colab": {
          "base_uri": "https://localhost:8080/",
          "height": 128
        }
      },
      "source": [
        "df_label.head()"
      ],
      "execution_count": null,
      "outputs": [
        {
          "output_type": "execute_result",
          "data": {
            "text/plain": [
              "0    1\n",
              "1    0\n",
              "2    1\n",
              "3    0\n",
              "4    1\n",
              "Name: Outcome, dtype: int64"
            ]
          },
          "metadata": {
            "tags": []
          },
          "execution_count": 25
        }
      ]
    },
    {
      "cell_type": "markdown",
      "metadata": {
        "id": "WNd_umDlWUSI"
      },
      "source": [
        "### Convert Category into 2 Class"
      ]
    },
    {
      "cell_type": "code",
      "metadata": {
        "id": "942LUXMk9dII"
      },
      "source": [
        "label = []\n",
        "for lab in df_label:\n",
        "    if lab == 1:\n",
        "        label.append([1, 0])  # class 1\n",
        "    elif lab == 0:\n",
        "        label.append([0, 1])  # class 0"
      ],
      "execution_count": null,
      "outputs": []
    },
    {
      "cell_type": "markdown",
      "metadata": {
        "id": "lWa51988Wdyo"
      },
      "source": [
        "### Convert Dataframe to Array"
      ]
    },
    {
      "cell_type": "code",
      "metadata": {
        "id": "VZjnPnuf90fM",
        "outputId": "8a65a50a-1ea5-4101-b81d-845befd08a57",
        "colab": {
          "base_uri": "https://localhost:8080/",
          "height": 35
        }
      },
      "source": [
        "data = np.array(df_features)\n",
        "label = np.array(label)\n",
        "print(data.shape,label.shape)"
      ],
      "execution_count": null,
      "outputs": [
        {
          "output_type": "stream",
          "text": [
            "(768, 8) (768, 2)\n"
          ],
          "name": "stdout"
        }
      ]
    },
    {
      "cell_type": "code",
      "metadata": {
        "id": "r-uhHMIgI5ld",
        "outputId": "3d039f4c-9d8f-40b5-eac6-61e5d1ae0350",
        "colab": {
          "base_uri": "https://localhost:8080/",
          "height": 35
        }
      },
      "source": [
        "data[1]"
      ],
      "execution_count": null,
      "outputs": [
        {
          "output_type": "execute_result",
          "data": {
            "text/plain": [
              "array([ 1.   , 85.   , 66.   , 29.   ,  0.   , 26.6  ,  0.351, 31.   ])"
            ]
          },
          "metadata": {
            "tags": []
          },
          "execution_count": 29
        }
      ]
    },
    {
      "cell_type": "code",
      "metadata": {
        "id": "RyMbOWnMJEst",
        "outputId": "4a19fd1d-c6d6-486f-fb18-7e4bfa0a4a7a",
        "colab": {
          "base_uri": "https://localhost:8080/",
          "height": 35
        }
      },
      "source": [
        "label[1]"
      ],
      "execution_count": null,
      "outputs": [
        {
          "output_type": "execute_result",
          "data": {
            "text/plain": [
              "array([0, 1])"
            ]
          },
          "metadata": {
            "tags": []
          },
          "execution_count": 30
        }
      ]
    },
    {
      "cell_type": "markdown",
      "metadata": {
        "id": "myg_mAHtWj35"
      },
      "source": [
        "### Split Data Into Training Dataset And Test Dataset"
      ]
    },
    {
      "cell_type": "code",
      "metadata": {
        "id": "kwh2dTry959v",
        "outputId": "a2b2f5b9-30a1-452b-ad8d-88fd5244e511",
        "colab": {
          "base_uri": "https://localhost:8080/",
          "height": 35
        }
      },
      "source": [
        "train_data, test_data, train_label, test_label = train_test_split(data, label, test_size=0.2, random_state=42)\n",
        "print(train_data.shape, test_data.shape)\n"
      ],
      "execution_count": null,
      "outputs": [
        {
          "output_type": "stream",
          "text": [
            "(614, 8) (154, 8)\n"
          ],
          "name": "stdout"
        }
      ]
    },
    {
      "cell_type": "markdown",
      "metadata": {
        "id": "EDUn62LtWutK"
      },
      "source": [
        "### Create Model"
      ]
    },
    {
      "cell_type": "code",
      "metadata": {
        "id": "qYO5pwrO-MQS",
        "outputId": "e4d69338-98e0-4ea5-e145-414753cda1c2",
        "colab": {
          "base_uri": "https://localhost:8080/",
          "height": 276
        }
      },
      "source": [
        "## create model\n",
        "model = Sequential()\n",
        "model.add(Dense(12, input_dim=8, activation='relu'))\n",
        "model.add(Dense(8, activation='relu'))\n",
        "model.add(Dense(2, activation='softmax'))\n",
        "\n",
        "model.summary()"
      ],
      "execution_count": null,
      "outputs": [
        {
          "output_type": "stream",
          "text": [
            "Model: \"sequential_3\"\n",
            "_________________________________________________________________\n",
            "Layer (type)                 Output Shape              Param #   \n",
            "=================================================================\n",
            "dense_7 (Dense)              (None, 12)                108       \n",
            "_________________________________________________________________\n",
            "dense_8 (Dense)              (None, 8)                 104       \n",
            "_________________________________________________________________\n",
            "dense_9 (Dense)              (None, 2)                 18        \n",
            "=================================================================\n",
            "Total params: 230\n",
            "Trainable params: 230\n",
            "Non-trainable params: 0\n",
            "_________________________________________________________________\n"
          ],
          "name": "stdout"
        }
      ]
    },
    {
      "cell_type": "markdown",
      "metadata": {
        "id": "C38MbZVwWyHT"
      },
      "source": [
        "### Setup Training Optimizer"
      ]
    },
    {
      "cell_type": "code",
      "metadata": {
        "id": "U4JWt2Zn-hqk"
      },
      "source": [
        "## set training optimizer\n",
        "model.compile(loss='binary_crossentropy', optimizer='adam', metrics=['accuracy'])"
      ],
      "execution_count": null,
      "outputs": []
    },
    {
      "cell_type": "markdown",
      "metadata": {
        "id": "phzf07jiW2XF"
      },
      "source": [
        "### Train The Model"
      ]
    },
    {
      "cell_type": "code",
      "metadata": {
        "id": "XkBpra0I-p13",
        "outputId": "ce274161-e498-4ff9-a99f-f3497cbab593",
        "colab": {
          "base_uri": "https://localhost:8080/",
          "height": 1000
        }
      },
      "source": [
        "import os\n",
        "import datetime\n",
        "import time\n",
        "\n",
        "start = time.time()\n",
        "history = model.fit(train_data, train_label,\n",
        "                    epochs=200,\n",
        "                    batch_size=10,\n",
        "                    validation_data=(test_data, test_label)\n",
        "                    )\n",
        "\n",
        "end = time.time()\n",
        "print(\"Model took {:2.0f} seconds to train\".format((end - start)))"
      ],
      "execution_count": null,
      "outputs": [
        {
          "output_type": "stream",
          "text": [
            "Train on 614 samples, validate on 154 samples\n",
            "Epoch 1/200\n",
            "614/614 [==============================] - 0s 326us/step - loss: 5.3021 - accuracy: 0.6515 - val_loss: 5.4775 - val_accuracy: 0.6429\n",
            "Epoch 2/200\n",
            "614/614 [==============================] - 0s 146us/step - loss: 5.3117 - accuracy: 0.6515 - val_loss: 5.4775 - val_accuracy: 0.6429\n",
            "Epoch 3/200\n",
            "614/614 [==============================] - 0s 158us/step - loss: 5.2900 - accuracy: 0.6547 - val_loss: 5.4775 - val_accuracy: 0.6429\n",
            "Epoch 4/200\n",
            "614/614 [==============================] - 0s 161us/step - loss: 5.3004 - accuracy: 0.6531 - val_loss: 5.4775 - val_accuracy: 0.6429\n",
            "Epoch 5/200\n",
            "614/614 [==============================] - 0s 140us/step - loss: 5.2944 - accuracy: 0.6531 - val_loss: 5.4775 - val_accuracy: 0.6429\n",
            "Epoch 6/200\n",
            "614/614 [==============================] - 0s 158us/step - loss: 5.2940 - accuracy: 0.6531 - val_loss: 5.4775 - val_accuracy: 0.6429\n",
            "Epoch 7/200\n",
            "614/614 [==============================] - 0s 138us/step - loss: 5.2937 - accuracy: 0.6547 - val_loss: 5.4775 - val_accuracy: 0.6429\n",
            "Epoch 8/200\n",
            "614/614 [==============================] - 0s 145us/step - loss: 5.2919 - accuracy: 0.6531 - val_loss: 5.4775 - val_accuracy: 0.6429\n",
            "Epoch 9/200\n",
            "614/614 [==============================] - 0s 144us/step - loss: 5.2931 - accuracy: 0.6531 - val_loss: 5.4775 - val_accuracy: 0.6429\n",
            "Epoch 10/200\n",
            "614/614 [==============================] - 0s 143us/step - loss: 5.2910 - accuracy: 0.6547 - val_loss: 5.4775 - val_accuracy: 0.6429\n",
            "Epoch 11/200\n",
            "614/614 [==============================] - 0s 139us/step - loss: 5.2961 - accuracy: 0.6547 - val_loss: 5.4775 - val_accuracy: 0.6429\n",
            "Epoch 12/200\n",
            "614/614 [==============================] - 0s 145us/step - loss: 5.2889 - accuracy: 0.6547 - val_loss: 5.4775 - val_accuracy: 0.6429\n",
            "Epoch 13/200\n",
            "614/614 [==============================] - 0s 143us/step - loss: 5.2979 - accuracy: 0.6531 - val_loss: 5.4775 - val_accuracy: 0.6429\n",
            "Epoch 14/200\n",
            "614/614 [==============================] - 0s 147us/step - loss: 5.2935 - accuracy: 0.6515 - val_loss: 5.4775 - val_accuracy: 0.6429\n",
            "Epoch 15/200\n",
            "614/614 [==============================] - 0s 160us/step - loss: 5.2941 - accuracy: 0.6515 - val_loss: 5.4775 - val_accuracy: 0.6429\n",
            "Epoch 16/200\n",
            "614/614 [==============================] - 0s 140us/step - loss: 5.2888 - accuracy: 0.6531 - val_loss: 5.4775 - val_accuracy: 0.6429\n",
            "Epoch 17/200\n",
            "614/614 [==============================] - 0s 141us/step - loss: 5.2892 - accuracy: 0.6547 - val_loss: 5.4775 - val_accuracy: 0.6429\n",
            "Epoch 18/200\n",
            "614/614 [==============================] - 0s 143us/step - loss: 5.2978 - accuracy: 0.6531 - val_loss: 5.4775 - val_accuracy: 0.6429\n",
            "Epoch 19/200\n",
            "614/614 [==============================] - 0s 192us/step - loss: 5.2876 - accuracy: 0.6547 - val_loss: 5.4775 - val_accuracy: 0.6429\n",
            "Epoch 20/200\n",
            "614/614 [==============================] - 0s 156us/step - loss: 5.2894 - accuracy: 0.6547 - val_loss: 5.4775 - val_accuracy: 0.6429\n",
            "Epoch 21/200\n",
            "614/614 [==============================] - 0s 149us/step - loss: 5.2941 - accuracy: 0.6531 - val_loss: 5.4775 - val_accuracy: 0.6429\n",
            "Epoch 22/200\n",
            "614/614 [==============================] - 0s 153us/step - loss: 5.2880 - accuracy: 0.6547 - val_loss: 5.4775 - val_accuracy: 0.6429\n",
            "Epoch 23/200\n",
            "614/614 [==============================] - 0s 150us/step - loss: 5.2931 - accuracy: 0.6547 - val_loss: 5.4775 - val_accuracy: 0.6429\n",
            "Epoch 24/200\n",
            "614/614 [==============================] - 0s 150us/step - loss: 5.3093 - accuracy: 0.6515 - val_loss: 5.4666 - val_accuracy: 0.6429\n",
            "Epoch 25/200\n",
            "614/614 [==============================] - 0s 139us/step - loss: 4.7891 - accuracy: 0.6042 - val_loss: 4.3650 - val_accuracy: 0.4610\n",
            "Epoch 26/200\n",
            "614/614 [==============================] - 0s 139us/step - loss: 3.0257 - accuracy: 0.5977 - val_loss: 2.6254 - val_accuracy: 0.5195\n",
            "Epoch 27/200\n",
            "614/614 [==============================] - 0s 134us/step - loss: 1.6168 - accuracy: 0.6433 - val_loss: 1.1349 - val_accuracy: 0.6688\n",
            "Epoch 28/200\n",
            "614/614 [==============================] - 0s 145us/step - loss: 1.0501 - accuracy: 0.6580 - val_loss: 1.1060 - val_accuracy: 0.6623\n",
            "Epoch 29/200\n",
            "614/614 [==============================] - 0s 147us/step - loss: 0.9868 - accuracy: 0.6352 - val_loss: 0.9311 - val_accuracy: 0.6753\n",
            "Epoch 30/200\n",
            "614/614 [==============================] - 0s 142us/step - loss: 0.7567 - accuracy: 0.6759 - val_loss: 0.8128 - val_accuracy: 0.6818\n",
            "Epoch 31/200\n",
            "614/614 [==============================] - 0s 147us/step - loss: 0.7389 - accuracy: 0.6645 - val_loss: 0.7389 - val_accuracy: 0.6623\n",
            "Epoch 32/200\n",
            "614/614 [==============================] - 0s 156us/step - loss: 0.7204 - accuracy: 0.6564 - val_loss: 0.8141 - val_accuracy: 0.6169\n",
            "Epoch 33/200\n",
            "614/614 [==============================] - 0s 147us/step - loss: 0.7797 - accuracy: 0.6694 - val_loss: 0.7608 - val_accuracy: 0.6948\n",
            "Epoch 34/200\n",
            "614/614 [==============================] - 0s 154us/step - loss: 0.6892 - accuracy: 0.6954 - val_loss: 0.7391 - val_accuracy: 0.6883\n",
            "Epoch 35/200\n",
            "614/614 [==============================] - 0s 137us/step - loss: 0.5984 - accuracy: 0.7134 - val_loss: 0.7143 - val_accuracy: 0.6753\n",
            "Epoch 36/200\n",
            "614/614 [==============================] - 0s 151us/step - loss: 0.6405 - accuracy: 0.6857 - val_loss: 0.6770 - val_accuracy: 0.6753\n",
            "Epoch 37/200\n",
            "614/614 [==============================] - 0s 143us/step - loss: 0.6367 - accuracy: 0.6987 - val_loss: 0.7740 - val_accuracy: 0.5714\n",
            "Epoch 38/200\n",
            "614/614 [==============================] - 0s 145us/step - loss: 0.6660 - accuracy: 0.6792 - val_loss: 0.6599 - val_accuracy: 0.6948\n",
            "Epoch 39/200\n",
            "614/614 [==============================] - 0s 144us/step - loss: 0.5744 - accuracy: 0.7117 - val_loss: 0.9156 - val_accuracy: 0.6818\n",
            "Epoch 40/200\n",
            "614/614 [==============================] - 0s 144us/step - loss: 0.6114 - accuracy: 0.6954 - val_loss: 0.6619 - val_accuracy: 0.7078\n",
            "Epoch 41/200\n",
            "614/614 [==============================] - 0s 157us/step - loss: 0.5721 - accuracy: 0.7264 - val_loss: 0.7133 - val_accuracy: 0.6818\n",
            "Epoch 42/200\n",
            "614/614 [==============================] - 0s 154us/step - loss: 0.6277 - accuracy: 0.7182 - val_loss: 0.7574 - val_accuracy: 0.6753\n",
            "Epoch 43/200\n",
            "614/614 [==============================] - 0s 144us/step - loss: 0.5963 - accuracy: 0.7068 - val_loss: 0.7002 - val_accuracy: 0.7143\n",
            "Epoch 44/200\n",
            "614/614 [==============================] - 0s 138us/step - loss: 0.5789 - accuracy: 0.7296 - val_loss: 0.6846 - val_accuracy: 0.6818\n",
            "Epoch 45/200\n",
            "614/614 [==============================] - 0s 158us/step - loss: 0.5595 - accuracy: 0.7378 - val_loss: 0.6674 - val_accuracy: 0.6753\n",
            "Epoch 46/200\n",
            "614/614 [==============================] - 0s 152us/step - loss: 0.5990 - accuracy: 0.7003 - val_loss: 0.7039 - val_accuracy: 0.6948\n",
            "Epoch 47/200\n",
            "614/614 [==============================] - 0s 144us/step - loss: 0.5881 - accuracy: 0.7215 - val_loss: 0.6968 - val_accuracy: 0.6818\n",
            "Epoch 48/200\n",
            "614/614 [==============================] - 0s 141us/step - loss: 0.5766 - accuracy: 0.7427 - val_loss: 0.6585 - val_accuracy: 0.7143\n",
            "Epoch 49/200\n",
            "614/614 [==============================] - 0s 141us/step - loss: 0.5445 - accuracy: 0.7329 - val_loss: 0.6490 - val_accuracy: 0.7273\n",
            "Epoch 50/200\n",
            "614/614 [==============================] - 0s 153us/step - loss: 0.5378 - accuracy: 0.7492 - val_loss: 0.6855 - val_accuracy: 0.6818\n",
            "Epoch 51/200\n",
            "614/614 [==============================] - 0s 151us/step - loss: 0.5447 - accuracy: 0.7215 - val_loss: 0.6608 - val_accuracy: 0.7143\n",
            "Epoch 52/200\n",
            "614/614 [==============================] - 0s 155us/step - loss: 0.5405 - accuracy: 0.7296 - val_loss: 0.6896 - val_accuracy: 0.6688\n",
            "Epoch 53/200\n",
            "614/614 [==============================] - 0s 149us/step - loss: 0.5428 - accuracy: 0.7362 - val_loss: 0.6570 - val_accuracy: 0.6883\n",
            "Epoch 54/200\n",
            "614/614 [==============================] - 0s 148us/step - loss: 0.5388 - accuracy: 0.7329 - val_loss: 0.7059 - val_accuracy: 0.7208\n",
            "Epoch 55/200\n",
            "614/614 [==============================] - 0s 160us/step - loss: 0.5312 - accuracy: 0.7443 - val_loss: 0.6633 - val_accuracy: 0.7143\n",
            "Epoch 56/200\n",
            "614/614 [==============================] - 0s 156us/step - loss: 0.5983 - accuracy: 0.7134 - val_loss: 0.6106 - val_accuracy: 0.7208\n",
            "Epoch 57/200\n",
            "614/614 [==============================] - 0s 164us/step - loss: 0.5459 - accuracy: 0.7492 - val_loss: 0.7209 - val_accuracy: 0.7078\n",
            "Epoch 58/200\n",
            "614/614 [==============================] - 0s 151us/step - loss: 0.5655 - accuracy: 0.7459 - val_loss: 0.6301 - val_accuracy: 0.7143\n",
            "Epoch 59/200\n",
            "614/614 [==============================] - 0s 152us/step - loss: 0.5335 - accuracy: 0.7296 - val_loss: 0.6687 - val_accuracy: 0.7078\n",
            "Epoch 60/200\n",
            "614/614 [==============================] - 0s 157us/step - loss: 0.5582 - accuracy: 0.7329 - val_loss: 0.6550 - val_accuracy: 0.7273\n",
            "Epoch 61/200\n",
            "614/614 [==============================] - 0s 178us/step - loss: 0.5284 - accuracy: 0.7410 - val_loss: 0.6808 - val_accuracy: 0.6753\n",
            "Epoch 62/200\n",
            "614/614 [==============================] - 0s 146us/step - loss: 0.5268 - accuracy: 0.7329 - val_loss: 0.6466 - val_accuracy: 0.7078\n",
            "Epoch 63/200\n",
            "614/614 [==============================] - 0s 143us/step - loss: 0.5133 - accuracy: 0.7443 - val_loss: 0.6810 - val_accuracy: 0.7078\n",
            "Epoch 64/200\n",
            "614/614 [==============================] - 0s 158us/step - loss: 0.5175 - accuracy: 0.7362 - val_loss: 0.6286 - val_accuracy: 0.7143\n",
            "Epoch 65/200\n",
            "614/614 [==============================] - 0s 152us/step - loss: 0.5304 - accuracy: 0.7573 - val_loss: 0.6485 - val_accuracy: 0.7208\n",
            "Epoch 66/200\n",
            "614/614 [==============================] - 0s 154us/step - loss: 0.5058 - accuracy: 0.7655 - val_loss: 0.6950 - val_accuracy: 0.6948\n",
            "Epoch 67/200\n",
            "614/614 [==============================] - 0s 146us/step - loss: 0.4920 - accuracy: 0.7850 - val_loss: 0.6963 - val_accuracy: 0.6429\n",
            "Epoch 68/200\n",
            "614/614 [==============================] - 0s 154us/step - loss: 0.5168 - accuracy: 0.7557 - val_loss: 0.6387 - val_accuracy: 0.6883\n",
            "Epoch 69/200\n",
            "614/614 [==============================] - 0s 156us/step - loss: 0.5148 - accuracy: 0.7590 - val_loss: 0.7522 - val_accuracy: 0.6883\n",
            "Epoch 70/200\n",
            "614/614 [==============================] - 0s 147us/step - loss: 0.5762 - accuracy: 0.7362 - val_loss: 0.6127 - val_accuracy: 0.7403\n",
            "Epoch 71/200\n",
            "614/614 [==============================] - 0s 145us/step - loss: 0.5000 - accuracy: 0.7704 - val_loss: 0.6372 - val_accuracy: 0.7273\n",
            "Epoch 72/200\n",
            "614/614 [==============================] - 0s 147us/step - loss: 0.5284 - accuracy: 0.7573 - val_loss: 0.6046 - val_accuracy: 0.7403\n",
            "Epoch 73/200\n",
            "614/614 [==============================] - 0s 157us/step - loss: 0.4907 - accuracy: 0.7655 - val_loss: 0.7067 - val_accuracy: 0.6883\n",
            "Epoch 74/200\n",
            "614/614 [==============================] - 0s 157us/step - loss: 0.5392 - accuracy: 0.7394 - val_loss: 0.6175 - val_accuracy: 0.7143\n",
            "Epoch 75/200\n",
            "614/614 [==============================] - 0s 148us/step - loss: 0.4965 - accuracy: 0.7378 - val_loss: 0.6904 - val_accuracy: 0.7403\n",
            "Epoch 76/200\n",
            "614/614 [==============================] - 0s 149us/step - loss: 0.5250 - accuracy: 0.7541 - val_loss: 0.6363 - val_accuracy: 0.6753\n",
            "Epoch 77/200\n",
            "614/614 [==============================] - 0s 150us/step - loss: 0.4966 - accuracy: 0.7687 - val_loss: 0.6429 - val_accuracy: 0.7208\n",
            "Epoch 78/200\n",
            "614/614 [==============================] - 0s 176us/step - loss: 0.5234 - accuracy: 0.7541 - val_loss: 0.6000 - val_accuracy: 0.7078\n",
            "Epoch 79/200\n",
            "614/614 [==============================] - 0s 154us/step - loss: 0.5072 - accuracy: 0.7443 - val_loss: 0.6229 - val_accuracy: 0.7078\n",
            "Epoch 80/200\n",
            "614/614 [==============================] - 0s 146us/step - loss: 0.5118 - accuracy: 0.7492 - val_loss: 0.6384 - val_accuracy: 0.6948\n",
            "Epoch 81/200\n",
            "614/614 [==============================] - 0s 153us/step - loss: 0.5192 - accuracy: 0.7573 - val_loss: 0.6254 - val_accuracy: 0.7078\n",
            "Epoch 82/200\n",
            "614/614 [==============================] - 0s 171us/step - loss: 0.4957 - accuracy: 0.7671 - val_loss: 0.5910 - val_accuracy: 0.7273\n",
            "Epoch 83/200\n",
            "614/614 [==============================] - 0s 155us/step - loss: 0.4965 - accuracy: 0.7410 - val_loss: 0.5926 - val_accuracy: 0.7532\n",
            "Epoch 84/200\n",
            "614/614 [==============================] - 0s 150us/step - loss: 0.4940 - accuracy: 0.7736 - val_loss: 0.6037 - val_accuracy: 0.7403\n",
            "Epoch 85/200\n",
            "614/614 [==============================] - 0s 146us/step - loss: 0.5090 - accuracy: 0.7557 - val_loss: 0.6113 - val_accuracy: 0.7597\n",
            "Epoch 86/200\n",
            "614/614 [==============================] - 0s 160us/step - loss: 0.4858 - accuracy: 0.7638 - val_loss: 0.6105 - val_accuracy: 0.7468\n",
            "Epoch 87/200\n",
            "614/614 [==============================] - 0s 145us/step - loss: 0.5020 - accuracy: 0.7443 - val_loss: 0.5819 - val_accuracy: 0.7338\n",
            "Epoch 88/200\n",
            "614/614 [==============================] - 0s 155us/step - loss: 0.5125 - accuracy: 0.7704 - val_loss: 0.6108 - val_accuracy: 0.7143\n",
            "Epoch 89/200\n",
            "614/614 [==============================] - 0s 169us/step - loss: 0.5551 - accuracy: 0.7410 - val_loss: 0.6269 - val_accuracy: 0.7143\n",
            "Epoch 90/200\n",
            "614/614 [==============================] - 0s 153us/step - loss: 0.4904 - accuracy: 0.7704 - val_loss: 0.6161 - val_accuracy: 0.7078\n",
            "Epoch 91/200\n",
            "614/614 [==============================] - 0s 151us/step - loss: 0.4860 - accuracy: 0.7590 - val_loss: 0.6072 - val_accuracy: 0.7208\n",
            "Epoch 92/200\n",
            "614/614 [==============================] - 0s 154us/step - loss: 0.4857 - accuracy: 0.7687 - val_loss: 0.5849 - val_accuracy: 0.7208\n",
            "Epoch 93/200\n",
            "614/614 [==============================] - 0s 154us/step - loss: 0.4798 - accuracy: 0.7671 - val_loss: 0.6043 - val_accuracy: 0.7273\n",
            "Epoch 94/200\n",
            "614/614 [==============================] - 0s 160us/step - loss: 0.5004 - accuracy: 0.7687 - val_loss: 0.5958 - val_accuracy: 0.7208\n",
            "Epoch 95/200\n",
            "614/614 [==============================] - 0s 180us/step - loss: 0.4847 - accuracy: 0.7785 - val_loss: 0.5818 - val_accuracy: 0.7468\n",
            "Epoch 96/200\n",
            "614/614 [==============================] - 0s 160us/step - loss: 0.4958 - accuracy: 0.7638 - val_loss: 0.5813 - val_accuracy: 0.7727\n",
            "Epoch 97/200\n",
            "614/614 [==============================] - 0s 162us/step - loss: 0.5028 - accuracy: 0.7622 - val_loss: 0.6064 - val_accuracy: 0.7403\n",
            "Epoch 98/200\n",
            "614/614 [==============================] - 0s 174us/step - loss: 0.5095 - accuracy: 0.7573 - val_loss: 0.5891 - val_accuracy: 0.7143\n",
            "Epoch 99/200\n",
            "614/614 [==============================] - 0s 154us/step - loss: 0.4736 - accuracy: 0.7720 - val_loss: 0.5876 - val_accuracy: 0.7273\n",
            "Epoch 100/200\n",
            "614/614 [==============================] - 0s 154us/step - loss: 0.4793 - accuracy: 0.7736 - val_loss: 0.5697 - val_accuracy: 0.7273\n",
            "Epoch 101/200\n",
            "614/614 [==============================] - 0s 145us/step - loss: 0.5056 - accuracy: 0.7638 - val_loss: 0.7077 - val_accuracy: 0.6558\n",
            "Epoch 102/200\n",
            "614/614 [==============================] - 0s 146us/step - loss: 0.5118 - accuracy: 0.7313 - val_loss: 0.6102 - val_accuracy: 0.7013\n",
            "Epoch 103/200\n",
            "614/614 [==============================] - 0s 153us/step - loss: 0.4757 - accuracy: 0.7818 - val_loss: 0.6025 - val_accuracy: 0.7338\n",
            "Epoch 104/200\n",
            "614/614 [==============================] - 0s 143us/step - loss: 0.4854 - accuracy: 0.7720 - val_loss: 0.5634 - val_accuracy: 0.7662\n",
            "Epoch 105/200\n",
            "614/614 [==============================] - 0s 144us/step - loss: 0.4972 - accuracy: 0.7687 - val_loss: 0.5885 - val_accuracy: 0.7662\n",
            "Epoch 106/200\n",
            "614/614 [==============================] - 0s 150us/step - loss: 0.4820 - accuracy: 0.7769 - val_loss: 0.6240 - val_accuracy: 0.7468\n",
            "Epoch 107/200\n",
            "614/614 [==============================] - 0s 141us/step - loss: 0.4744 - accuracy: 0.7785 - val_loss: 0.5650 - val_accuracy: 0.7662\n",
            "Epoch 108/200\n",
            "614/614 [==============================] - 0s 159us/step - loss: 0.4862 - accuracy: 0.7736 - val_loss: 0.6223 - val_accuracy: 0.6883\n",
            "Epoch 109/200\n",
            "614/614 [==============================] - 0s 164us/step - loss: 0.4862 - accuracy: 0.7622 - val_loss: 0.5922 - val_accuracy: 0.7338\n",
            "Epoch 110/200\n",
            "614/614 [==============================] - 0s 159us/step - loss: 0.4795 - accuracy: 0.7655 - val_loss: 0.6042 - val_accuracy: 0.7013\n",
            "Epoch 111/200\n",
            "614/614 [==============================] - 0s 150us/step - loss: 0.4745 - accuracy: 0.7671 - val_loss: 0.5752 - val_accuracy: 0.7662\n",
            "Epoch 112/200\n",
            "614/614 [==============================] - 0s 146us/step - loss: 0.4740 - accuracy: 0.7638 - val_loss: 0.5615 - val_accuracy: 0.7857\n",
            "Epoch 113/200\n",
            "614/614 [==============================] - 0s 142us/step - loss: 0.4700 - accuracy: 0.7785 - val_loss: 0.6233 - val_accuracy: 0.7078\n",
            "Epoch 114/200\n",
            "614/614 [==============================] - 0s 154us/step - loss: 0.4817 - accuracy: 0.7622 - val_loss: 0.6097 - val_accuracy: 0.7532\n",
            "Epoch 115/200\n",
            "614/614 [==============================] - 0s 171us/step - loss: 0.4743 - accuracy: 0.7638 - val_loss: 0.5883 - val_accuracy: 0.7468\n",
            "Epoch 116/200\n",
            "614/614 [==============================] - 0s 153us/step - loss: 0.4684 - accuracy: 0.7834 - val_loss: 0.6299 - val_accuracy: 0.7468\n",
            "Epoch 117/200\n",
            "614/614 [==============================] - 0s 149us/step - loss: 0.4832 - accuracy: 0.7687 - val_loss: 0.5761 - val_accuracy: 0.7597\n",
            "Epoch 118/200\n",
            "614/614 [==============================] - 0s 148us/step - loss: 0.4961 - accuracy: 0.7687 - val_loss: 0.6173 - val_accuracy: 0.7208\n",
            "Epoch 119/200\n",
            "614/614 [==============================] - 0s 152us/step - loss: 0.4912 - accuracy: 0.7590 - val_loss: 0.5970 - val_accuracy: 0.7338\n",
            "Epoch 120/200\n",
            "614/614 [==============================] - 0s 162us/step - loss: 0.4734 - accuracy: 0.7590 - val_loss: 0.5894 - val_accuracy: 0.7403\n",
            "Epoch 121/200\n",
            "614/614 [==============================] - 0s 151us/step - loss: 0.4549 - accuracy: 0.7801 - val_loss: 0.5606 - val_accuracy: 0.7597\n",
            "Epoch 122/200\n",
            "614/614 [==============================] - 0s 140us/step - loss: 0.4837 - accuracy: 0.7573 - val_loss: 0.5717 - val_accuracy: 0.7597\n",
            "Epoch 123/200\n",
            "614/614 [==============================] - 0s 145us/step - loss: 0.4877 - accuracy: 0.7785 - val_loss: 0.5706 - val_accuracy: 0.7597\n",
            "Epoch 124/200\n",
            "614/614 [==============================] - 0s 142us/step - loss: 0.4615 - accuracy: 0.7932 - val_loss: 0.6074 - val_accuracy: 0.7532\n",
            "Epoch 125/200\n",
            "614/614 [==============================] - 0s 142us/step - loss: 0.4717 - accuracy: 0.7769 - val_loss: 0.5579 - val_accuracy: 0.7662\n",
            "Epoch 126/200\n",
            "614/614 [==============================] - 0s 147us/step - loss: 0.4610 - accuracy: 0.7638 - val_loss: 0.6103 - val_accuracy: 0.7013\n",
            "Epoch 127/200\n",
            "614/614 [==============================] - 0s 142us/step - loss: 0.4893 - accuracy: 0.7476 - val_loss: 0.6672 - val_accuracy: 0.7208\n",
            "Epoch 128/200\n",
            "614/614 [==============================] - 0s 136us/step - loss: 0.4766 - accuracy: 0.7850 - val_loss: 0.6348 - val_accuracy: 0.7338\n",
            "Epoch 129/200\n",
            "614/614 [==============================] - 0s 143us/step - loss: 0.4735 - accuracy: 0.7752 - val_loss: 0.5971 - val_accuracy: 0.7078\n",
            "Epoch 130/200\n",
            "614/614 [==============================] - 0s 145us/step - loss: 0.4604 - accuracy: 0.7704 - val_loss: 0.6879 - val_accuracy: 0.6948\n",
            "Epoch 131/200\n",
            "614/614 [==============================] - 0s 154us/step - loss: 0.4783 - accuracy: 0.7801 - val_loss: 0.5982 - val_accuracy: 0.7532\n",
            "Epoch 132/200\n",
            "614/614 [==============================] - 0s 158us/step - loss: 0.4721 - accuracy: 0.7720 - val_loss: 0.5513 - val_accuracy: 0.7532\n",
            "Epoch 133/200\n",
            "614/614 [==============================] - 0s 158us/step - loss: 0.4722 - accuracy: 0.7769 - val_loss: 0.5672 - val_accuracy: 0.7403\n",
            "Epoch 134/200\n",
            "614/614 [==============================] - 0s 165us/step - loss: 0.4506 - accuracy: 0.7866 - val_loss: 0.7336 - val_accuracy: 0.7078\n",
            "Epoch 135/200\n",
            "614/614 [==============================] - 0s 176us/step - loss: 0.4966 - accuracy: 0.7557 - val_loss: 0.5481 - val_accuracy: 0.7597\n",
            "Epoch 136/200\n",
            "614/614 [==============================] - 0s 158us/step - loss: 0.4845 - accuracy: 0.7769 - val_loss: 0.6149 - val_accuracy: 0.7403\n",
            "Epoch 137/200\n",
            "614/614 [==============================] - 0s 149us/step - loss: 0.4948 - accuracy: 0.7638 - val_loss: 0.5534 - val_accuracy: 0.7532\n",
            "Epoch 138/200\n",
            "614/614 [==============================] - 0s 158us/step - loss: 0.4457 - accuracy: 0.7801 - val_loss: 0.5736 - val_accuracy: 0.7468\n",
            "Epoch 139/200\n",
            "614/614 [==============================] - 0s 168us/step - loss: 0.4508 - accuracy: 0.7948 - val_loss: 0.5612 - val_accuracy: 0.7792\n",
            "Epoch 140/200\n",
            "614/614 [==============================] - 0s 139us/step - loss: 0.4548 - accuracy: 0.7980 - val_loss: 0.6178 - val_accuracy: 0.7273\n",
            "Epoch 141/200\n",
            "614/614 [==============================] - 0s 149us/step - loss: 0.4680 - accuracy: 0.7850 - val_loss: 0.5655 - val_accuracy: 0.7727\n",
            "Epoch 142/200\n",
            "614/614 [==============================] - 0s 155us/step - loss: 0.4561 - accuracy: 0.7834 - val_loss: 0.6080 - val_accuracy: 0.7338\n",
            "Epoch 143/200\n",
            "614/614 [==============================] - 0s 148us/step - loss: 0.4569 - accuracy: 0.7915 - val_loss: 0.5423 - val_accuracy: 0.7922\n",
            "Epoch 144/200\n",
            "614/614 [==============================] - 0s 147us/step - loss: 0.4483 - accuracy: 0.7850 - val_loss: 0.5669 - val_accuracy: 0.7662\n",
            "Epoch 145/200\n",
            "614/614 [==============================] - 0s 154us/step - loss: 0.4568 - accuracy: 0.7687 - val_loss: 0.6258 - val_accuracy: 0.7013\n",
            "Epoch 146/200\n",
            "614/614 [==============================] - 0s 179us/step - loss: 0.4571 - accuracy: 0.7769 - val_loss: 0.5615 - val_accuracy: 0.7468\n",
            "Epoch 147/200\n",
            "614/614 [==============================] - 0s 153us/step - loss: 0.4614 - accuracy: 0.7801 - val_loss: 0.5557 - val_accuracy: 0.7662\n",
            "Epoch 148/200\n",
            "614/614 [==============================] - 0s 159us/step - loss: 0.4608 - accuracy: 0.7850 - val_loss: 0.6032 - val_accuracy: 0.7143\n",
            "Epoch 149/200\n",
            "614/614 [==============================] - 0s 156us/step - loss: 0.4376 - accuracy: 0.7915 - val_loss: 0.7772 - val_accuracy: 0.7013\n",
            "Epoch 150/200\n",
            "614/614 [==============================] - 0s 153us/step - loss: 0.4812 - accuracy: 0.7704 - val_loss: 0.5941 - val_accuracy: 0.7468\n",
            "Epoch 151/200\n",
            "614/614 [==============================] - 0s 149us/step - loss: 0.4438 - accuracy: 0.7866 - val_loss: 0.5647 - val_accuracy: 0.7662\n",
            "Epoch 152/200\n",
            "614/614 [==============================] - 0s 152us/step - loss: 0.4434 - accuracy: 0.8046 - val_loss: 0.5563 - val_accuracy: 0.7792\n",
            "Epoch 153/200\n",
            "614/614 [==============================] - 0s 148us/step - loss: 0.4617 - accuracy: 0.7769 - val_loss: 0.6400 - val_accuracy: 0.7468\n",
            "Epoch 154/200\n",
            "614/614 [==============================] - 0s 154us/step - loss: 0.4472 - accuracy: 0.7980 - val_loss: 0.5841 - val_accuracy: 0.7532\n",
            "Epoch 155/200\n",
            "614/614 [==============================] - 0s 170us/step - loss: 0.4468 - accuracy: 0.7818 - val_loss: 0.6917 - val_accuracy: 0.7208\n",
            "Epoch 156/200\n",
            "614/614 [==============================] - 0s 163us/step - loss: 0.4728 - accuracy: 0.7801 - val_loss: 0.5816 - val_accuracy: 0.7143\n",
            "Epoch 157/200\n",
            "614/614 [==============================] - 0s 191us/step - loss: 0.4403 - accuracy: 0.7834 - val_loss: 0.5981 - val_accuracy: 0.7468\n",
            "Epoch 158/200\n",
            "614/614 [==============================] - 0s 184us/step - loss: 0.4470 - accuracy: 0.7850 - val_loss: 0.5571 - val_accuracy: 0.7727\n",
            "Epoch 159/200\n",
            "614/614 [==============================] - 0s 175us/step - loss: 0.4448 - accuracy: 0.7899 - val_loss: 0.5634 - val_accuracy: 0.7597\n",
            "Epoch 160/200\n",
            "614/614 [==============================] - 0s 181us/step - loss: 0.4363 - accuracy: 0.7948 - val_loss: 0.5692 - val_accuracy: 0.7468\n",
            "Epoch 161/200\n",
            "614/614 [==============================] - 0s 212us/step - loss: 0.4359 - accuracy: 0.7899 - val_loss: 0.5498 - val_accuracy: 0.7792\n",
            "Epoch 162/200\n",
            "614/614 [==============================] - 0s 210us/step - loss: 0.4745 - accuracy: 0.7948 - val_loss: 0.7207 - val_accuracy: 0.6623\n",
            "Epoch 163/200\n",
            "614/614 [==============================] - 0s 195us/step - loss: 0.4797 - accuracy: 0.7704 - val_loss: 0.5532 - val_accuracy: 0.7662\n",
            "Epoch 164/200\n",
            "614/614 [==============================] - 0s 187us/step - loss: 0.4371 - accuracy: 0.7980 - val_loss: 0.5930 - val_accuracy: 0.7532\n",
            "Epoch 165/200\n",
            "614/614 [==============================] - 0s 177us/step - loss: 0.4410 - accuracy: 0.8029 - val_loss: 0.6121 - val_accuracy: 0.7143\n",
            "Epoch 166/200\n",
            "614/614 [==============================] - 0s 184us/step - loss: 0.4445 - accuracy: 0.7915 - val_loss: 0.5726 - val_accuracy: 0.7403\n",
            "Epoch 167/200\n",
            "614/614 [==============================] - 0s 221us/step - loss: 0.4418 - accuracy: 0.7883 - val_loss: 0.5483 - val_accuracy: 0.7727\n",
            "Epoch 168/200\n",
            "614/614 [==============================] - 0s 203us/step - loss: 0.4342 - accuracy: 0.8029 - val_loss: 0.6087 - val_accuracy: 0.7208\n",
            "Epoch 169/200\n",
            "614/614 [==============================] - 0s 216us/step - loss: 0.4329 - accuracy: 0.8062 - val_loss: 0.5681 - val_accuracy: 0.7727\n",
            "Epoch 170/200\n",
            "614/614 [==============================] - 0s 230us/step - loss: 0.4737 - accuracy: 0.7866 - val_loss: 0.5882 - val_accuracy: 0.7532\n",
            "Epoch 171/200\n",
            "614/614 [==============================] - 0s 186us/step - loss: 0.4542 - accuracy: 0.7736 - val_loss: 0.5753 - val_accuracy: 0.7468\n",
            "Epoch 172/200\n",
            "614/614 [==============================] - 0s 179us/step - loss: 0.5048 - accuracy: 0.7866 - val_loss: 0.6164 - val_accuracy: 0.7532\n",
            "Epoch 173/200\n",
            "614/614 [==============================] - 0s 191us/step - loss: 0.4598 - accuracy: 0.7752 - val_loss: 0.5658 - val_accuracy: 0.7273\n",
            "Epoch 174/200\n",
            "614/614 [==============================] - 0s 216us/step - loss: 0.4475 - accuracy: 0.7801 - val_loss: 0.5726 - val_accuracy: 0.7468\n",
            "Epoch 175/200\n",
            "614/614 [==============================] - 0s 220us/step - loss: 0.4415 - accuracy: 0.7948 - val_loss: 0.5390 - val_accuracy: 0.7662\n",
            "Epoch 176/200\n",
            "614/614 [==============================] - 0s 219us/step - loss: 0.4438 - accuracy: 0.7948 - val_loss: 0.5606 - val_accuracy: 0.7078\n",
            "Epoch 177/200\n",
            "614/614 [==============================] - 0s 167us/step - loss: 0.4551 - accuracy: 0.7932 - val_loss: 0.5580 - val_accuracy: 0.7597\n",
            "Epoch 178/200\n",
            "614/614 [==============================] - 0s 181us/step - loss: 0.4613 - accuracy: 0.7769 - val_loss: 0.5755 - val_accuracy: 0.7403\n",
            "Epoch 179/200\n",
            "614/614 [==============================] - 0s 168us/step - loss: 0.4820 - accuracy: 0.7590 - val_loss: 0.6063 - val_accuracy: 0.7403\n",
            "Epoch 180/200\n",
            "614/614 [==============================] - 0s 165us/step - loss: 0.4468 - accuracy: 0.7932 - val_loss: 0.5661 - val_accuracy: 0.7597\n",
            "Epoch 181/200\n",
            "614/614 [==============================] - 0s 207us/step - loss: 0.4421 - accuracy: 0.7834 - val_loss: 0.6025 - val_accuracy: 0.7013\n",
            "Epoch 182/200\n",
            "614/614 [==============================] - 0s 249us/step - loss: 0.4643 - accuracy: 0.7850 - val_loss: 0.6490 - val_accuracy: 0.7532\n",
            "Epoch 183/200\n",
            "614/614 [==============================] - 0s 242us/step - loss: 0.4561 - accuracy: 0.7834 - val_loss: 0.5782 - val_accuracy: 0.7662\n",
            "Epoch 184/200\n",
            "614/614 [==============================] - 0s 239us/step - loss: 0.4757 - accuracy: 0.7899 - val_loss: 0.5589 - val_accuracy: 0.7597\n",
            "Epoch 185/200\n",
            "614/614 [==============================] - 0s 184us/step - loss: 0.4540 - accuracy: 0.7932 - val_loss: 0.5723 - val_accuracy: 0.7662\n",
            "Epoch 186/200\n",
            "614/614 [==============================] - 0s 190us/step - loss: 0.4376 - accuracy: 0.8094 - val_loss: 0.5320 - val_accuracy: 0.7727\n",
            "Epoch 187/200\n",
            "614/614 [==============================] - 0s 185us/step - loss: 0.4332 - accuracy: 0.8046 - val_loss: 0.5826 - val_accuracy: 0.7338\n",
            "Epoch 188/200\n",
            "614/614 [==============================] - 0s 204us/step - loss: 0.4608 - accuracy: 0.7818 - val_loss: 0.5501 - val_accuracy: 0.7662\n",
            "Epoch 189/200\n",
            "614/614 [==============================] - 0s 176us/step - loss: 0.4528 - accuracy: 0.7883 - val_loss: 0.5430 - val_accuracy: 0.7792\n",
            "Epoch 190/200\n",
            "614/614 [==============================] - 0s 185us/step - loss: 0.4329 - accuracy: 0.8013 - val_loss: 0.5629 - val_accuracy: 0.7532\n",
            "Epoch 191/200\n",
            "614/614 [==============================] - 0s 171us/step - loss: 0.4173 - accuracy: 0.8192 - val_loss: 0.6145 - val_accuracy: 0.7532\n",
            "Epoch 192/200\n",
            "614/614 [==============================] - 0s 200us/step - loss: 0.4289 - accuracy: 0.7948 - val_loss: 0.5856 - val_accuracy: 0.7597\n",
            "Epoch 193/200\n",
            "614/614 [==============================] - 0s 216us/step - loss: 0.4410 - accuracy: 0.7883 - val_loss: 0.5495 - val_accuracy: 0.7597\n",
            "Epoch 194/200\n",
            "614/614 [==============================] - 0s 225us/step - loss: 0.4328 - accuracy: 0.7997 - val_loss: 0.5354 - val_accuracy: 0.7727\n",
            "Epoch 195/200\n",
            "614/614 [==============================] - 0s 244us/step - loss: 0.4443 - accuracy: 0.7932 - val_loss: 0.5273 - val_accuracy: 0.7857\n",
            "Epoch 196/200\n",
            "614/614 [==============================] - 0s 224us/step - loss: 0.4231 - accuracy: 0.8046 - val_loss: 0.6434 - val_accuracy: 0.6883\n",
            "Epoch 197/200\n",
            "614/614 [==============================] - 0s 241us/step - loss: 0.4599 - accuracy: 0.7980 - val_loss: 0.6352 - val_accuracy: 0.7403\n",
            "Epoch 198/200\n",
            "614/614 [==============================] - 0s 273us/step - loss: 0.4352 - accuracy: 0.7948 - val_loss: 0.5498 - val_accuracy: 0.7662\n",
            "Epoch 199/200\n",
            "614/614 [==============================] - 0s 268us/step - loss: 0.4388 - accuracy: 0.7997 - val_loss: 0.5272 - val_accuracy: 0.7987\n",
            "Epoch 200/200\n",
            "614/614 [==============================] - 0s 378us/step - loss: 0.4751 - accuracy: 0.7932 - val_loss: 0.5439 - val_accuracy: 0.7792\n",
            "Model took 21 seconds to train\n"
          ],
          "name": "stdout"
        }
      ]
    },
    {
      "cell_type": "markdown",
      "metadata": {
        "id": "xM8VnnqnW7C8"
      },
      "source": [
        "### View Training Result"
      ]
    },
    {
      "cell_type": "code",
      "metadata": {
        "id": "3EBycIa1Apgv",
        "outputId": "dd1c9a72-9c36-4a19-a3fc-35979adf7fa2",
        "colab": {
          "base_uri": "https://localhost:8080/",
          "height": 91
        }
      },
      "source": [
        "for key in history.history.keys():\n",
        "    print(key)\n"
      ],
      "execution_count": null,
      "outputs": [
        {
          "output_type": "stream",
          "text": [
            "val_loss\n",
            "val_accuracy\n",
            "loss\n",
            "accuracy\n"
          ],
          "name": "stdout"
        }
      ]
    },
    {
      "cell_type": "code",
      "metadata": {
        "id": "jUU0dfZfNBhm",
        "outputId": "d9cd26b6-327a-4c19-89fb-220d0891adc0",
        "colab": {
          "base_uri": "https://localhost:8080/",
          "height": 573
        }
      },
      "source": [
        "#show graph\n",
        "plot_model_history(history)"
      ],
      "execution_count": null,
      "outputs": [
        {
          "output_type": "display_data",
          "data": {
            "image/png": "[encoded data removed]",
            "text/plain": [
              "<Figure size 432x288 with 1 Axes>"
            ]
          },
          "metadata": {
            "tags": [],
            "needs_background": "light"
          }
        },
        {
          "output_type": "display_data",
          "data": {
            "image/png": "[encoded data removed]",
            "text/plain": [
              "<Figure size 432x288 with 1 Axes>"
            ]
          },
          "metadata": {
            "tags": [],
            "needs_background": "light"
          }
        }
      ]
    },
    {
      "cell_type": "markdown",
      "metadata": {
        "id": "qNXkDdKPW_cA"
      },
      "source": [
        "### Evaluate the Model"
      ]
    },
    {
      "cell_type": "code",
      "metadata": {
        "id": "OZORWyf8NSxr",
        "outputId": "42efdd5d-4ad8-4a56-f415-65bac9970190",
        "colab": {
          "base_uri": "https://localhost:8080/",
          "height": 54
        }
      },
      "source": [
        "test_loss, test_acc = model.evaluate(test_data, test_label)\n",
        "print('Test accuracy:', test_acc)"
      ],
      "execution_count": null,
      "outputs": [
        {
          "output_type": "stream",
          "text": [
            "154/154 [==============================] - 0s 45us/step\n",
            "Test accuracy: 0.7792207598686218\n"
          ],
          "name": "stdout"
        }
      ]
    },
    {
      "cell_type": "code",
      "metadata": {
        "id": "_0TQ8r_7_bTv",
        "outputId": "3ef35d38-3b53-4f03-8744-e4909c929eea",
        "colab": {
          "base_uri": "https://localhost:8080/",
          "height": 35
        }
      },
      "source": [
        "prediction = model.predict(test_data)\n",
        "prediction.shape"
      ],
      "execution_count": null,
      "outputs": [
        {
          "output_type": "execute_result",
          "data": {
            "text/plain": [
              "(154, 2)"
            ]
          },
          "metadata": {
            "tags": []
          },
          "execution_count": 45
        }
      ]
    },
    {
      "cell_type": "code",
      "metadata": {
        "id": "Ppp0XaGUQYOP",
        "outputId": "c10287f6-9daa-43fc-8fdc-a473bcd1da8d",
        "colab": {
          "base_uri": "https://localhost:8080/",
          "height": 35
        }
      },
      "source": [
        "prediction[1]"
      ],
      "execution_count": null,
      "outputs": [
        {
          "output_type": "execute_result",
          "data": {
            "text/plain": [
              "array([0.11911941, 0.8808806 ], dtype=float32)"
            ]
          },
          "metadata": {
            "tags": []
          },
          "execution_count": 47
        }
      ]
    },
    {
      "cell_type": "code",
      "metadata": {
        "id": "ctIpBpsdQloi",
        "outputId": "492c4919-649d-40ea-8c68-1da533b62e26",
        "colab": {
          "base_uri": "https://localhost:8080/",
          "height": 109
        }
      },
      "source": [
        "for i in range(5):\n",
        "  print('%s => %s => expected %s' % (test_data[i].tolist(), prediction[i].tolist(), test_label[i].tolist()))"
      ],
      "execution_count": null,
      "outputs": [
        {
          "output_type": "stream",
          "text": [
            "[6.0, 98.0, 58.0, 33.0, 190.0, 34.0, 0.43, 43.0] => [0.41894617676734924, 0.5810538530349731] => expected [0, 1]\n",
            "[2.0, 112.0, 75.0, 32.0, 0.0, 35.7, 0.14800000000000002, 21.0] => [0.11911941319704056, 0.88088059425354] => expected [0, 1]\n",
            "[2.0, 108.0, 64.0, 0.0, 0.0, 30.8, 0.158, 21.0] => [0.12284921854734421, 0.8771507740020752] => expected [0, 1]\n",
            "[8.0, 107.0, 80.0, 0.0, 0.0, 24.6, 0.856, 34.0] => [0.15509870648384094, 0.8449012637138367] => expected [0, 1]\n",
            "[7.0, 136.0, 90.0, 0.0, 0.0, 29.9, 0.21, 50.0] => [0.5206596851348877, 0.4793403148651123] => expected [0, 1]\n"
          ],
          "name": "stdout"
        }
      ]
    },
    {
      "cell_type": "code",
      "metadata": {
        "id": "8QtBPk7W_0yJ",
        "outputId": "6ceb7fa3-91ba-40a1-f7e1-035dcd5fbeb5",
        "colab": {
          "base_uri": "https://localhost:8080/",
          "height": 276
        }
      },
      "source": [
        "# Creating pandas dataframe from numpy array\n",
        "\n",
        "result = pd.DataFrame({'Pregnancies': test_data[:, 0],\n",
        "                       'Glucose': test_data[:, 1],\n",
        "                       'BloodPressure': test_data[:, 2],\n",
        "                       'SkinThickness': test_data[:, 3],\n",
        "                       'Insulin': test_data[:, 4],\n",
        "                       'BMI': test_data[:, 5],\n",
        "                       'DiabetesPedigreeFunction': test_data[:, 6],\n",
        "                       'Age': test_data[:, 7],\n",
        "                       'Prediction-yes': prediction[:, 0],\n",
        "                       'Prediction-no': prediction[:, 1],\n",
        "                       'Diabetes-yes': test_label[:, 0],\n",
        "                       'Diabetes-no': test_label[:, 1]}\n",
        "                      )\n",
        "print(result)"
      ],
      "execution_count": null,
      "outputs": [
        {
          "output_type": "stream",
          "text": [
            "     Pregnancies  Glucose  ...  Diabetes-yes  Diabetes-no\n",
            "0            6.0     98.0  ...             0            1\n",
            "1            2.0    112.0  ...             0            1\n",
            "2            2.0    108.0  ...             0            1\n",
            "3            8.0    107.0  ...             0            1\n",
            "4            7.0    136.0  ...             0            1\n",
            "..           ...      ...  ...           ...          ...\n",
            "149          9.0    165.0  ...             1            0\n",
            "150          1.0     77.0  ...             0            1\n",
            "151          8.0     95.0  ...             0            1\n",
            "152          2.0    146.0  ...             1            0\n",
            "153          8.0     74.0  ...             0            1\n",
            "\n",
            "[154 rows x 12 columns]\n"
          ],
          "name": "stdout"
        }
      ]
    },
    {
      "cell_type": "code",
      "metadata": {
        "id": "DK1SfVDVU1cW",
        "outputId": "d50d3e9f-f496-4159-b54a-a47bf661021f",
        "colab": {
          "base_uri": "https://localhost:8080/",
          "height": 206
        }
      },
      "source": [
        "result.head()"
      ],
      "execution_count": null,
      "outputs": [
        {
          "output_type": "execute_result",
          "data": {
            "text/html": [
              "<div>\n",
              "<style scoped>\n",
              "    .dataframe tbody tr th:only-of-type {\n",
              "        vertical-align: middle;\n",
              "    }\n",
              "\n",
              "    .dataframe tbody tr th {\n",
              "        vertical-align: top;\n",
              "    }\n",
              "\n",
              "    .dataframe thead th {\n",
              "        text-align: right;\n",
              "    }\n",
              "</style>\n",
              "<table border=\"1\" class=\"dataframe\">\n",
              "  <thead>\n",
              "    <tr style=\"text-align: right;\">\n",
              "      <th></th>\n",
              "      <th>Pregnancies</th>\n",
              "      <th>Glucose</th>\n",
              "      <th>BloodPressure</th>\n",
              "      <th>SkinThickness</th>\n",
              "      <th>Insulin</th>\n",
              "      <th>BMI</th>\n",
              "      <th>DiabetesPedigreeFunction</th>\n",
              "      <th>Age</th>\n",
              "      <th>Prediction-yes</th>\n",
              "      <th>Prediction-no</th>\n",
              "      <th>Diabetes-yes</th>\n",
              "      <th>Diabetes-no</th>\n",
              "    </tr>\n",
              "  </thead>\n",
              "  <tbody>\n",
              "    <tr>\n",
              "      <th>0</th>\n",
              "      <td>6.0</td>\n",
              "      <td>98.0</td>\n",
              "      <td>58.0</td>\n",
              "      <td>33.0</td>\n",
              "      <td>190.0</td>\n",
              "      <td>34.0</td>\n",
              "      <td>0.430</td>\n",
              "      <td>43.0</td>\n",
              "      <td>0.418946</td>\n",
              "      <td>0.581054</td>\n",
              "      <td>0</td>\n",
              "      <td>1</td>\n",
              "    </tr>\n",
              "    <tr>\n",
              "      <th>1</th>\n",
              "      <td>2.0</td>\n",
              "      <td>112.0</td>\n",
              "      <td>75.0</td>\n",
              "      <td>32.0</td>\n",
              "      <td>0.0</td>\n",
              "      <td>35.7</td>\n",
              "      <td>0.148</td>\n",
              "      <td>21.0</td>\n",
              "      <td>0.119119</td>\n",
              "      <td>0.880881</td>\n",
              "      <td>0</td>\n",
              "      <td>1</td>\n",
              "    </tr>\n",
              "    <tr>\n",
              "      <th>2</th>\n",
              "      <td>2.0</td>\n",
              "      <td>108.0</td>\n",
              "      <td>64.0</td>\n",
              "      <td>0.0</td>\n",
              "      <td>0.0</td>\n",
              "      <td>30.8</td>\n",
              "      <td>0.158</td>\n",
              "      <td>21.0</td>\n",
              "      <td>0.122849</td>\n",
              "      <td>0.877151</td>\n",
              "      <td>0</td>\n",
              "      <td>1</td>\n",
              "    </tr>\n",
              "    <tr>\n",
              "      <th>3</th>\n",
              "      <td>8.0</td>\n",
              "      <td>107.0</td>\n",
              "      <td>80.0</td>\n",
              "      <td>0.0</td>\n",
              "      <td>0.0</td>\n",
              "      <td>24.6</td>\n",
              "      <td>0.856</td>\n",
              "      <td>34.0</td>\n",
              "      <td>0.155099</td>\n",
              "      <td>0.844901</td>\n",
              "      <td>0</td>\n",
              "      <td>1</td>\n",
              "    </tr>\n",
              "    <tr>\n",
              "      <th>4</th>\n",
              "      <td>7.0</td>\n",
              "      <td>136.0</td>\n",
              "      <td>90.0</td>\n",
              "      <td>0.0</td>\n",
              "      <td>0.0</td>\n",
              "      <td>29.9</td>\n",
              "      <td>0.210</td>\n",
              "      <td>50.0</td>\n",
              "      <td>0.520660</td>\n",
              "      <td>0.479340</td>\n",
              "      <td>0</td>\n",
              "      <td>1</td>\n",
              "    </tr>\n",
              "  </tbody>\n",
              "</table>\n",
              "</div>"
            ],
            "text/plain": [
              "   Pregnancies  Glucose  ...  Diabetes-yes  Diabetes-no\n",
              "0          6.0     98.0  ...             0            1\n",
              "1          2.0    112.0  ...             0            1\n",
              "2          2.0    108.0  ...             0            1\n",
              "3          8.0    107.0  ...             0            1\n",
              "4          7.0    136.0  ...             0            1\n",
              "\n",
              "[5 rows x 12 columns]"
            ]
          },
          "metadata": {
            "tags": []
          },
          "execution_count": 61
        }
      ]
    },
    {
      "cell_type": "code",
      "metadata": {
        "id": "3_woyXQAUTuB"
      },
      "source": [],
      "execution_count": null,
      "outputs": []
    }
  ]
}